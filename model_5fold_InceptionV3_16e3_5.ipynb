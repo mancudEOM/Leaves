{
  "cells": [
    {
      "cell_type": "markdown",
      "metadata": {
        "id": "view-in-github",
        "colab_type": "text"
      },
      "source": [
        "<a href=\"https://colab.research.google.com/github/mancudEOM/Leaves/blob/main/model_5fold_InceptionV3_16e3_5.ipynb\" target=\"_parent\"><img src=\"https://colab.research.google.com/assets/colab-badge.svg\" alt=\"Open In Colab\"/></a>"
      ]
    },
    {
      "cell_type": "code",
      "execution_count": 1,
      "metadata": {
        "colab": {
          "base_uri": "https://localhost:8080/"
        },
        "id": "re2cPhu8Glvf",
        "outputId": "39e45e94-ccf9-4244-b11c-42823c01b3a3"
      },
      "outputs": [
        {
          "output_type": "stream",
          "name": "stdout",
          "text": [
            "Drive already mounted at /content/drive; to attempt to forcibly remount, call drive.mount(\"/content/drive\", force_remount=True).\n"
          ]
        }
      ],
      "source": [
        "  from google.colab import drive\n",
        "  drive.mount('/content/drive')\n",
        "\n"
      ]
    },
    {
      "cell_type": "code",
      "execution_count": 2,
      "metadata": {
        "colab": {
          "base_uri": "https://localhost:8080/"
        },
        "id": "16aNt0njGqgR",
        "outputId": "3dbbe2be-9e62-42c4-8121-c81bbc005d60"
      },
      "outputs": [
        {
          "output_type": "stream",
          "name": "stdout",
          "text": [
            "drive  sample_data\n"
          ]
        }
      ],
      "source": [
        "  !ls\n"
      ]
    },
    {
      "cell_type": "code",
      "execution_count": 3,
      "metadata": {
        "id": "6kpNIXuzGskg"
      },
      "outputs": [],
      "source": [
        "  import sys\n",
        "  root_path = '/content/drive/My Drive/Mulberry Leaf Dataset/' # This is the path to where in google drive the code is stored!\n",
        "  sys.path.append(root_path)"
      ]
    },
    {
      "cell_type": "markdown",
      "metadata": {
        "id": "qMNSUzIxL7JZ"
      },
      "source": [
        "# THÊM TẤT CẢ CÁC THƯ VIỆN CẦN THIẾT"
      ]
    },
    {
      "cell_type": "code",
      "execution_count": 4,
      "metadata": {
        "id": "NJq2Vm2hHTWR"
      },
      "outputs": [],
      "source": [
        "import numpy as np\n",
        "from sklearn.metrics import accuracy_score, f1_score, precision_score, confusion_matrix\n",
        "from sklearn.model_selection import StratifiedKFold\n",
        "from PIL import Image\n",
        "import random\n",
        "import tensorflow as tf\n",
        "from tensorflow.keras.models import Sequential\n",
        "from keras.preprocessing.image import ImageDataGenerator\n",
        "from tensorflow.keras.preprocessing.image import ImageDataGenerator\n",
        "from tensorflow.keras.layers import Dense, Dropout, Flatten, Conv2D, MaxPooling2D\n",
        "\n",
        "from tensorflow.compat.v1 import ConfigProto\n",
        "from tensorflow.compat.v1 import InteractiveSession\n",
        "import warnings\n",
        "import os\n",
        "import shutil\n",
        "from PIL import ImageFile\n",
        "warnings.simplefilter('error', Image.DecompressionBombWarning)\n",
        "ImageFile.LOAD_TRUNCATED_IMAGES = True\n",
        "Image.MAX_IMAGE_PIXELS = 1000000000\n",
        "config = ConfigProto()\n",
        "config.gpu_options.allow_growth = True\n",
        "session = InteractiveSession(config=config)"
      ]
    },
    {
      "cell_type": "markdown",
      "source": [],
      "metadata": {
        "id": "dRoRYDVdlr-Q"
      }
    },
    {
      "cell_type": "markdown",
      "metadata": {
        "id": "QYpc-VdEMGBS"
      },
      "source": [
        "# Khởi tạo các biến cần thiết"
      ]
    },
    {
      "cell_type": "code",
      "execution_count": 5,
      "metadata": {
        "id": "iCy2O5d9Jxq6"
      },
      "outputs": [],
      "source": [
        "datasetFolderName=root_path+'dataset'\n",
        "MODEL_FILENAME=root_path+\"model_cv.h5\"\n",
        "sourceFiles=[]\n",
        "classLabels=['01 ChiangMai60','02 RedKing','03 WhiteKing',\n",
        "             '04 BlackOodTurkey','05 TaiwanStraberry','06 BlackAustralia',\n",
        "             '07 Buriram60','08 Kamphaengsaeng42','09 TaiwanMeacho','10 ChiangMaiBuriram60']\n",
        "X=[]\n",
        "Y=[]\n",
        "\n",
        "img_rows, img_cols =  224, 224\n",
        "# input image dimensions\n",
        "#img_rows, img_cols =  224, 224 # input image dimensions\n",
        "train_path=datasetFolderName+'/train/'\n",
        "validation_path=datasetFolderName+'/validation/'\n",
        "test_path=datasetFolderName+'/test/'"
      ]
    },
    {
      "cell_type": "markdown",
      "metadata": {
        "id": "LyAnSQTbMblZ"
      },
      "source": [
        "# KFOLD train-test-validation"
      ]
    },
    {
      "cell_type": "code",
      "execution_count": 6,
      "metadata": {
        "id": "RgfHPIHbJ4rR"
      },
      "outputs": [],
      "source": [
        "def transferBetweenFolders(source, dest, splitRate):\n",
        "    global sourceFiles\n",
        "    sourceFiles=os.listdir(source)\n",
        "    if(len(sourceFiles)!=0):\n",
        "        transferFileNumbers=int(len(sourceFiles)*splitRate)\n",
        "        transferIndex=random.sample(range(0, len(sourceFiles)), transferFileNumbers)\n",
        "        for eachIndex in transferIndex:\n",
        "            shutil.move(source+str(sourceFiles[eachIndex]), dest+str(sourceFiles[eachIndex]))\n",
        "    else:\n",
        "        print(\"No file moved. Source empty!\")\n",
        "\n",
        "def transferAllClassBetweenFolders(source, dest, splitRate):\n",
        "    for label in classLabels:\n",
        "        transferBetweenFolders(datasetFolderName+'/'+source+'/'+label+'/',\n",
        "                               datasetFolderName+'/'+dest+'/'+label+'/',\n",
        "                               splitRate)"
      ]
    },
    {
      "cell_type": "code",
      "execution_count": 7,
      "metadata": {
        "id": "stSX_AiNKleb"
      },
      "outputs": [],
      "source": [
        "transferAllClassBetweenFolders('test', 'train', 1.0)"
      ]
    },
    {
      "cell_type": "code",
      "execution_count": 8,
      "metadata": {
        "id": "Z6o8gWE-N-rq"
      },
      "outputs": [],
      "source": [
        "transferAllClassBetweenFolders('validation', 'train', 1.0)"
      ]
    },
    {
      "cell_type": "code",
      "execution_count": 9,
      "metadata": {
        "id": "arE4ro1JKqIh"
      },
      "outputs": [],
      "source": [
        "transferAllClassBetweenFolders('train', 'test', 0.20)"
      ]
    },
    {
      "cell_type": "code",
      "execution_count": 10,
      "metadata": {
        "id": "73VhRSA2K0fp"
      },
      "outputs": [],
      "source": [
        "def prepareNameWithLabels(folderName):\n",
        "    sourceFiles=os.listdir(datasetFolderName+'/train/'+folderName)\n",
        "    for val in sourceFiles:\n",
        "        X.append(val)\n",
        "        for i in range(len(classLabels)):\n",
        "          if(folderName==classLabels[i]):\n",
        "              Y.append(i)"
      ]
    },
    {
      "cell_type": "code",
      "execution_count": 11,
      "metadata": {
        "id": "u6pP6P3YK2Ub"
      },
      "outputs": [],
      "source": [
        "# Organize file names and class labels in X and Y variables\n",
        "for i in range(len(classLabels)):\n",
        "  prepareNameWithLabels(classLabels[i])"
      ]
    },
    {
      "cell_type": "code",
      "execution_count": 12,
      "metadata": {
        "id": "WZHmT5JgK3xa"
      },
      "outputs": [],
      "source": [
        "X=np.asarray(X)\n",
        "Y=np.asarray(Y)"
      ]
    },
    {
      "cell_type": "code",
      "execution_count": 13,
      "metadata": {
        "colab": {
          "base_uri": "https://localhost:8080/"
        },
        "id": "MzTCDvyoM28y",
        "outputId": "50703287-37ce-4857-9e5c-bf755119edbf"
      },
      "outputs": [
        {
          "output_type": "stream",
          "name": "stdout",
          "text": [
            "['20191207_144754.jpg' '20191207_144152.jpg' 'IMG_20191207_101851.jpg' ...\n",
            " 'DSC_0215.JPG' 'DSC_0388.JPG' 'DSC_0175.JPG']\n",
            "[0 0 0 ... 9 9 9]\n"
          ]
        }
      ],
      "source": [
        "print(X)\n",
        "print(Y)"
      ]
    },
    {
      "cell_type": "code",
      "execution_count": 14,
      "metadata": {
        "id": "WtnpSQSxX-67"
      },
      "outputs": [],
      "source": [
        "batch_size = 16\n",
        "IMG_SIZE = (224, 224, 3)\n",
        "number_of_class_labels = len(classLabels)"
      ]
    },
    {
      "cell_type": "code",
      "execution_count": 15,
      "metadata": {
        "id": "OKucCyffZ5cD"
      },
      "outputs": [],
      "source": [
        "import tensorflow.keras as keras"
      ]
    },
    {
      "cell_type": "code",
      "execution_count": 16,
      "metadata": {
        "id": "zWFE6eJxZvCD"
      },
      "outputs": [],
      "source": [
        "# Create a data augmentation stage with horizontal flipping, rotations, zooms\n",
        "data_augmentation = keras.Sequential(\n",
        "    [\n",
        "        keras.layers.Rescaling(1./ 255),\n",
        "        keras.layers.RandomFlip(),\n",
        "        keras.layers.RandomRotation(0.2),\n",
        "        keras.layers.RandomZoom(0.2,0.3)\n",
        "    ]\n",
        ")"
      ]
    },
    {
      "cell_type": "code",
      "execution_count": 17,
      "metadata": {
        "id": "A929RzhDZ7wR"
      },
      "outputs": [],
      "source": [
        "#ResNet50V2 layers except for the last global average pooling and final dense layer.\n",
        "#pre_trained_layers = keras.applications.ResNet50V2(weights=\"imagenet\", include_top=False,\n",
        " #          input_tensor=keras.Input(shape=IMG_SIZE))"
      ]
    },
    {
      "cell_type": "code",
      "execution_count": 18,
      "metadata": {
        "id": "wbD80LCePblH",
        "colab": {
          "base_uri": "https://localhost:8080/"
        },
        "outputId": "fae7e03a-3983-4743-cda4-5a03a70aae38"
      },
      "outputs": [
        {
          "output_type": "stream",
          "name": "stdout",
          "text": [
            "Downloading data from https://storage.googleapis.com/tensorflow/keras-applications/inception_v3/inception_v3_weights_tf_dim_ordering_tf_kernels_notop.h5\n",
            "87910968/87910968 [==============================] - 0s 0us/step\n"
          ]
        }
      ],
      "source": [
        "\n",
        "pre_trained_layers = keras.applications.InceptionV3(weights=\"imagenet\", include_top=False,\n",
        "         input_tensor=keras.Input(shape=IMG_SIZE))"
      ]
    },
    {
      "cell_type": "code",
      "execution_count": 19,
      "metadata": {
        "id": "kFkcL4A1JffX"
      },
      "outputs": [],
      "source": [
        "#pre_trained_layers = tf.keras.applications.ResNet152(weights=\"imagenet\", include_top=False,\n",
        "#          input_tensor=keras.Input(shape=IMG_SIZE))"
      ]
    },
    {
      "cell_type": "code",
      "execution_count": 20,
      "metadata": {
        "colab": {
          "base_uri": "https://localhost:8080/"
        },
        "id": "V-K3rsDLaLWL",
        "outputId": "877ce6b5-a3fb-4352-c142-1b1d3893ac43"
      },
      "outputs": [
        {
          "output_type": "stream",
          "name": "stdout",
          "text": [
            "Model: \"inception_v3\"\n",
            "__________________________________________________________________________________________________\n",
            " Layer (type)                   Output Shape         Param #     Connected to                     \n",
            "==================================================================================================\n",
            " input_1 (InputLayer)           [(None, 224, 224, 3  0           []                               \n",
            "                                )]                                                                \n",
            "                                                                                                  \n",
            " conv2d (Conv2D)                (None, 111, 111, 32  864         ['input_1[0][0]']                \n",
            "                                )                                                                 \n",
            "                                                                                                  \n",
            " batch_normalization (BatchNorm  (None, 111, 111, 32  96         ['conv2d[0][0]']                 \n",
            " alization)                     )                                                                 \n",
            "                                                                                                  \n",
            " activation (Activation)        (None, 111, 111, 32  0           ['batch_normalization[0][0]']    \n",
            "                                )                                                                 \n",
            "                                                                                                  \n",
            " conv2d_1 (Conv2D)              (None, 109, 109, 32  9216        ['activation[0][0]']             \n",
            "                                )                                                                 \n",
            "                                                                                                  \n",
            " batch_normalization_1 (BatchNo  (None, 109, 109, 32  96         ['conv2d_1[0][0]']               \n",
            " rmalization)                   )                                                                 \n",
            "                                                                                                  \n",
            " activation_1 (Activation)      (None, 109, 109, 32  0           ['batch_normalization_1[0][0]']  \n",
            "                                )                                                                 \n",
            "                                                                                                  \n",
            " conv2d_2 (Conv2D)              (None, 109, 109, 64  18432       ['activation_1[0][0]']           \n",
            "                                )                                                                 \n",
            "                                                                                                  \n",
            " batch_normalization_2 (BatchNo  (None, 109, 109, 64  192        ['conv2d_2[0][0]']               \n",
            " rmalization)                   )                                                                 \n",
            "                                                                                                  \n",
            " activation_2 (Activation)      (None, 109, 109, 64  0           ['batch_normalization_2[0][0]']  \n",
            "                                )                                                                 \n",
            "                                                                                                  \n",
            " max_pooling2d (MaxPooling2D)   (None, 54, 54, 64)   0           ['activation_2[0][0]']           \n",
            "                                                                                                  \n",
            " conv2d_3 (Conv2D)              (None, 54, 54, 80)   5120        ['max_pooling2d[0][0]']          \n",
            "                                                                                                  \n",
            " batch_normalization_3 (BatchNo  (None, 54, 54, 80)  240         ['conv2d_3[0][0]']               \n",
            " rmalization)                                                                                     \n",
            "                                                                                                  \n",
            " activation_3 (Activation)      (None, 54, 54, 80)   0           ['batch_normalization_3[0][0]']  \n",
            "                                                                                                  \n",
            " conv2d_4 (Conv2D)              (None, 52, 52, 192)  138240      ['activation_3[0][0]']           \n",
            "                                                                                                  \n",
            " batch_normalization_4 (BatchNo  (None, 52, 52, 192)  576        ['conv2d_4[0][0]']               \n",
            " rmalization)                                                                                     \n",
            "                                                                                                  \n",
            " activation_4 (Activation)      (None, 52, 52, 192)  0           ['batch_normalization_4[0][0]']  \n",
            "                                                                                                  \n",
            " max_pooling2d_1 (MaxPooling2D)  (None, 25, 25, 192)  0          ['activation_4[0][0]']           \n",
            "                                                                                                  \n",
            " conv2d_8 (Conv2D)              (None, 25, 25, 64)   12288       ['max_pooling2d_1[0][0]']        \n",
            "                                                                                                  \n",
            " batch_normalization_8 (BatchNo  (None, 25, 25, 64)  192         ['conv2d_8[0][0]']               \n",
            " rmalization)                                                                                     \n",
            "                                                                                                  \n",
            " activation_8 (Activation)      (None, 25, 25, 64)   0           ['batch_normalization_8[0][0]']  \n",
            "                                                                                                  \n",
            " conv2d_6 (Conv2D)              (None, 25, 25, 48)   9216        ['max_pooling2d_1[0][0]']        \n",
            "                                                                                                  \n",
            " conv2d_9 (Conv2D)              (None, 25, 25, 96)   55296       ['activation_8[0][0]']           \n",
            "                                                                                                  \n",
            " batch_normalization_6 (BatchNo  (None, 25, 25, 48)  144         ['conv2d_6[0][0]']               \n",
            " rmalization)                                                                                     \n",
            "                                                                                                  \n",
            " batch_normalization_9 (BatchNo  (None, 25, 25, 96)  288         ['conv2d_9[0][0]']               \n",
            " rmalization)                                                                                     \n",
            "                                                                                                  \n",
            " activation_6 (Activation)      (None, 25, 25, 48)   0           ['batch_normalization_6[0][0]']  \n",
            "                                                                                                  \n",
            " activation_9 (Activation)      (None, 25, 25, 96)   0           ['batch_normalization_9[0][0]']  \n",
            "                                                                                                  \n",
            " average_pooling2d (AveragePool  (None, 25, 25, 192)  0          ['max_pooling2d_1[0][0]']        \n",
            " ing2D)                                                                                           \n",
            "                                                                                                  \n",
            " conv2d_5 (Conv2D)              (None, 25, 25, 64)   12288       ['max_pooling2d_1[0][0]']        \n",
            "                                                                                                  \n",
            " conv2d_7 (Conv2D)              (None, 25, 25, 64)   76800       ['activation_6[0][0]']           \n",
            "                                                                                                  \n",
            " conv2d_10 (Conv2D)             (None, 25, 25, 96)   82944       ['activation_9[0][0]']           \n",
            "                                                                                                  \n",
            " conv2d_11 (Conv2D)             (None, 25, 25, 32)   6144        ['average_pooling2d[0][0]']      \n",
            "                                                                                                  \n",
            " batch_normalization_5 (BatchNo  (None, 25, 25, 64)  192         ['conv2d_5[0][0]']               \n",
            " rmalization)                                                                                     \n",
            "                                                                                                  \n",
            " batch_normalization_7 (BatchNo  (None, 25, 25, 64)  192         ['conv2d_7[0][0]']               \n",
            " rmalization)                                                                                     \n",
            "                                                                                                  \n",
            " batch_normalization_10 (BatchN  (None, 25, 25, 96)  288         ['conv2d_10[0][0]']              \n",
            " ormalization)                                                                                    \n",
            "                                                                                                  \n",
            " batch_normalization_11 (BatchN  (None, 25, 25, 32)  96          ['conv2d_11[0][0]']              \n",
            " ormalization)                                                                                    \n",
            "                                                                                                  \n",
            " activation_5 (Activation)      (None, 25, 25, 64)   0           ['batch_normalization_5[0][0]']  \n",
            "                                                                                                  \n",
            " activation_7 (Activation)      (None, 25, 25, 64)   0           ['batch_normalization_7[0][0]']  \n",
            "                                                                                                  \n",
            " activation_10 (Activation)     (None, 25, 25, 96)   0           ['batch_normalization_10[0][0]'] \n",
            "                                                                                                  \n",
            " activation_11 (Activation)     (None, 25, 25, 32)   0           ['batch_normalization_11[0][0]'] \n",
            "                                                                                                  \n",
            " mixed0 (Concatenate)           (None, 25, 25, 256)  0           ['activation_5[0][0]',           \n",
            "                                                                  'activation_7[0][0]',           \n",
            "                                                                  'activation_10[0][0]',          \n",
            "                                                                  'activation_11[0][0]']          \n",
            "                                                                                                  \n",
            " conv2d_15 (Conv2D)             (None, 25, 25, 64)   16384       ['mixed0[0][0]']                 \n",
            "                                                                                                  \n",
            " batch_normalization_15 (BatchN  (None, 25, 25, 64)  192         ['conv2d_15[0][0]']              \n",
            " ormalization)                                                                                    \n",
            "                                                                                                  \n",
            " activation_15 (Activation)     (None, 25, 25, 64)   0           ['batch_normalization_15[0][0]'] \n",
            "                                                                                                  \n",
            " conv2d_13 (Conv2D)             (None, 25, 25, 48)   12288       ['mixed0[0][0]']                 \n",
            "                                                                                                  \n",
            " conv2d_16 (Conv2D)             (None, 25, 25, 96)   55296       ['activation_15[0][0]']          \n",
            "                                                                                                  \n",
            " batch_normalization_13 (BatchN  (None, 25, 25, 48)  144         ['conv2d_13[0][0]']              \n",
            " ormalization)                                                                                    \n",
            "                                                                                                  \n",
            " batch_normalization_16 (BatchN  (None, 25, 25, 96)  288         ['conv2d_16[0][0]']              \n",
            " ormalization)                                                                                    \n",
            "                                                                                                  \n",
            " activation_13 (Activation)     (None, 25, 25, 48)   0           ['batch_normalization_13[0][0]'] \n",
            "                                                                                                  \n",
            " activation_16 (Activation)     (None, 25, 25, 96)   0           ['batch_normalization_16[0][0]'] \n",
            "                                                                                                  \n",
            " average_pooling2d_1 (AveragePo  (None, 25, 25, 256)  0          ['mixed0[0][0]']                 \n",
            " oling2D)                                                                                         \n",
            "                                                                                                  \n",
            " conv2d_12 (Conv2D)             (None, 25, 25, 64)   16384       ['mixed0[0][0]']                 \n",
            "                                                                                                  \n",
            " conv2d_14 (Conv2D)             (None, 25, 25, 64)   76800       ['activation_13[0][0]']          \n",
            "                                                                                                  \n",
            " conv2d_17 (Conv2D)             (None, 25, 25, 96)   82944       ['activation_16[0][0]']          \n",
            "                                                                                                  \n",
            " conv2d_18 (Conv2D)             (None, 25, 25, 64)   16384       ['average_pooling2d_1[0][0]']    \n",
            "                                                                                                  \n",
            " batch_normalization_12 (BatchN  (None, 25, 25, 64)  192         ['conv2d_12[0][0]']              \n",
            " ormalization)                                                                                    \n",
            "                                                                                                  \n",
            " batch_normalization_14 (BatchN  (None, 25, 25, 64)  192         ['conv2d_14[0][0]']              \n",
            " ormalization)                                                                                    \n",
            "                                                                                                  \n",
            " batch_normalization_17 (BatchN  (None, 25, 25, 96)  288         ['conv2d_17[0][0]']              \n",
            " ormalization)                                                                                    \n",
            "                                                                                                  \n",
            " batch_normalization_18 (BatchN  (None, 25, 25, 64)  192         ['conv2d_18[0][0]']              \n",
            " ormalization)                                                                                    \n",
            "                                                                                                  \n",
            " activation_12 (Activation)     (None, 25, 25, 64)   0           ['batch_normalization_12[0][0]'] \n",
            "                                                                                                  \n",
            " activation_14 (Activation)     (None, 25, 25, 64)   0           ['batch_normalization_14[0][0]'] \n",
            "                                                                                                  \n",
            " activation_17 (Activation)     (None, 25, 25, 96)   0           ['batch_normalization_17[0][0]'] \n",
            "                                                                                                  \n",
            " activation_18 (Activation)     (None, 25, 25, 64)   0           ['batch_normalization_18[0][0]'] \n",
            "                                                                                                  \n",
            " mixed1 (Concatenate)           (None, 25, 25, 288)  0           ['activation_12[0][0]',          \n",
            "                                                                  'activation_14[0][0]',          \n",
            "                                                                  'activation_17[0][0]',          \n",
            "                                                                  'activation_18[0][0]']          \n",
            "                                                                                                  \n",
            " conv2d_22 (Conv2D)             (None, 25, 25, 64)   18432       ['mixed1[0][0]']                 \n",
            "                                                                                                  \n",
            " batch_normalization_22 (BatchN  (None, 25, 25, 64)  192         ['conv2d_22[0][0]']              \n",
            " ormalization)                                                                                    \n",
            "                                                                                                  \n",
            " activation_22 (Activation)     (None, 25, 25, 64)   0           ['batch_normalization_22[0][0]'] \n",
            "                                                                                                  \n",
            " conv2d_20 (Conv2D)             (None, 25, 25, 48)   13824       ['mixed1[0][0]']                 \n",
            "                                                                                                  \n",
            " conv2d_23 (Conv2D)             (None, 25, 25, 96)   55296       ['activation_22[0][0]']          \n",
            "                                                                                                  \n",
            " batch_normalization_20 (BatchN  (None, 25, 25, 48)  144         ['conv2d_20[0][0]']              \n",
            " ormalization)                                                                                    \n",
            "                                                                                                  \n",
            " batch_normalization_23 (BatchN  (None, 25, 25, 96)  288         ['conv2d_23[0][0]']              \n",
            " ormalization)                                                                                    \n",
            "                                                                                                  \n",
            " activation_20 (Activation)     (None, 25, 25, 48)   0           ['batch_normalization_20[0][0]'] \n",
            "                                                                                                  \n",
            " activation_23 (Activation)     (None, 25, 25, 96)   0           ['batch_normalization_23[0][0]'] \n",
            "                                                                                                  \n",
            " average_pooling2d_2 (AveragePo  (None, 25, 25, 288)  0          ['mixed1[0][0]']                 \n",
            " oling2D)                                                                                         \n",
            "                                                                                                  \n",
            " conv2d_19 (Conv2D)             (None, 25, 25, 64)   18432       ['mixed1[0][0]']                 \n",
            "                                                                                                  \n",
            " conv2d_21 (Conv2D)             (None, 25, 25, 64)   76800       ['activation_20[0][0]']          \n",
            "                                                                                                  \n",
            " conv2d_24 (Conv2D)             (None, 25, 25, 96)   82944       ['activation_23[0][0]']          \n",
            "                                                                                                  \n",
            " conv2d_25 (Conv2D)             (None, 25, 25, 64)   18432       ['average_pooling2d_2[0][0]']    \n",
            "                                                                                                  \n",
            " batch_normalization_19 (BatchN  (None, 25, 25, 64)  192         ['conv2d_19[0][0]']              \n",
            " ormalization)                                                                                    \n",
            "                                                                                                  \n",
            " batch_normalization_21 (BatchN  (None, 25, 25, 64)  192         ['conv2d_21[0][0]']              \n",
            " ormalization)                                                                                    \n",
            "                                                                                                  \n",
            " batch_normalization_24 (BatchN  (None, 25, 25, 96)  288         ['conv2d_24[0][0]']              \n",
            " ormalization)                                                                                    \n",
            "                                                                                                  \n",
            " batch_normalization_25 (BatchN  (None, 25, 25, 64)  192         ['conv2d_25[0][0]']              \n",
            " ormalization)                                                                                    \n",
            "                                                                                                  \n",
            " activation_19 (Activation)     (None, 25, 25, 64)   0           ['batch_normalization_19[0][0]'] \n",
            "                                                                                                  \n",
            " activation_21 (Activation)     (None, 25, 25, 64)   0           ['batch_normalization_21[0][0]'] \n",
            "                                                                                                  \n",
            " activation_24 (Activation)     (None, 25, 25, 96)   0           ['batch_normalization_24[0][0]'] \n",
            "                                                                                                  \n",
            " activation_25 (Activation)     (None, 25, 25, 64)   0           ['batch_normalization_25[0][0]'] \n",
            "                                                                                                  \n",
            " mixed2 (Concatenate)           (None, 25, 25, 288)  0           ['activation_19[0][0]',          \n",
            "                                                                  'activation_21[0][0]',          \n",
            "                                                                  'activation_24[0][0]',          \n",
            "                                                                  'activation_25[0][0]']          \n",
            "                                                                                                  \n",
            " conv2d_27 (Conv2D)             (None, 25, 25, 64)   18432       ['mixed2[0][0]']                 \n",
            "                                                                                                  \n",
            " batch_normalization_27 (BatchN  (None, 25, 25, 64)  192         ['conv2d_27[0][0]']              \n",
            " ormalization)                                                                                    \n",
            "                                                                                                  \n",
            " activation_27 (Activation)     (None, 25, 25, 64)   0           ['batch_normalization_27[0][0]'] \n",
            "                                                                                                  \n",
            " conv2d_28 (Conv2D)             (None, 25, 25, 96)   55296       ['activation_27[0][0]']          \n",
            "                                                                                                  \n",
            " batch_normalization_28 (BatchN  (None, 25, 25, 96)  288         ['conv2d_28[0][0]']              \n",
            " ormalization)                                                                                    \n",
            "                                                                                                  \n",
            " activation_28 (Activation)     (None, 25, 25, 96)   0           ['batch_normalization_28[0][0]'] \n",
            "                                                                                                  \n",
            " conv2d_26 (Conv2D)             (None, 12, 12, 384)  995328      ['mixed2[0][0]']                 \n",
            "                                                                                                  \n",
            " conv2d_29 (Conv2D)             (None, 12, 12, 96)   82944       ['activation_28[0][0]']          \n",
            "                                                                                                  \n",
            " batch_normalization_26 (BatchN  (None, 12, 12, 384)  1152       ['conv2d_26[0][0]']              \n",
            " ormalization)                                                                                    \n",
            "                                                                                                  \n",
            " batch_normalization_29 (BatchN  (None, 12, 12, 96)  288         ['conv2d_29[0][0]']              \n",
            " ormalization)                                                                                    \n",
            "                                                                                                  \n",
            " activation_26 (Activation)     (None, 12, 12, 384)  0           ['batch_normalization_26[0][0]'] \n",
            "                                                                                                  \n",
            " activation_29 (Activation)     (None, 12, 12, 96)   0           ['batch_normalization_29[0][0]'] \n",
            "                                                                                                  \n",
            " max_pooling2d_2 (MaxPooling2D)  (None, 12, 12, 288)  0          ['mixed2[0][0]']                 \n",
            "                                                                                                  \n",
            " mixed3 (Concatenate)           (None, 12, 12, 768)  0           ['activation_26[0][0]',          \n",
            "                                                                  'activation_29[0][0]',          \n",
            "                                                                  'max_pooling2d_2[0][0]']        \n",
            "                                                                                                  \n",
            " conv2d_34 (Conv2D)             (None, 12, 12, 128)  98304       ['mixed3[0][0]']                 \n",
            "                                                                                                  \n",
            " batch_normalization_34 (BatchN  (None, 12, 12, 128)  384        ['conv2d_34[0][0]']              \n",
            " ormalization)                                                                                    \n",
            "                                                                                                  \n",
            " activation_34 (Activation)     (None, 12, 12, 128)  0           ['batch_normalization_34[0][0]'] \n",
            "                                                                                                  \n",
            " conv2d_35 (Conv2D)             (None, 12, 12, 128)  114688      ['activation_34[0][0]']          \n",
            "                                                                                                  \n",
            " batch_normalization_35 (BatchN  (None, 12, 12, 128)  384        ['conv2d_35[0][0]']              \n",
            " ormalization)                                                                                    \n",
            "                                                                                                  \n",
            " activation_35 (Activation)     (None, 12, 12, 128)  0           ['batch_normalization_35[0][0]'] \n",
            "                                                                                                  \n",
            " conv2d_31 (Conv2D)             (None, 12, 12, 128)  98304       ['mixed3[0][0]']                 \n",
            "                                                                                                  \n",
            " conv2d_36 (Conv2D)             (None, 12, 12, 128)  114688      ['activation_35[0][0]']          \n",
            "                                                                                                  \n",
            " batch_normalization_31 (BatchN  (None, 12, 12, 128)  384        ['conv2d_31[0][0]']              \n",
            " ormalization)                                                                                    \n",
            "                                                                                                  \n",
            " batch_normalization_36 (BatchN  (None, 12, 12, 128)  384        ['conv2d_36[0][0]']              \n",
            " ormalization)                                                                                    \n",
            "                                                                                                  \n",
            " activation_31 (Activation)     (None, 12, 12, 128)  0           ['batch_normalization_31[0][0]'] \n",
            "                                                                                                  \n",
            " activation_36 (Activation)     (None, 12, 12, 128)  0           ['batch_normalization_36[0][0]'] \n",
            "                                                                                                  \n",
            " conv2d_32 (Conv2D)             (None, 12, 12, 128)  114688      ['activation_31[0][0]']          \n",
            "                                                                                                  \n",
            " conv2d_37 (Conv2D)             (None, 12, 12, 128)  114688      ['activation_36[0][0]']          \n",
            "                                                                                                  \n",
            " batch_normalization_32 (BatchN  (None, 12, 12, 128)  384        ['conv2d_32[0][0]']              \n",
            " ormalization)                                                                                    \n",
            "                                                                                                  \n",
            " batch_normalization_37 (BatchN  (None, 12, 12, 128)  384        ['conv2d_37[0][0]']              \n",
            " ormalization)                                                                                    \n",
            "                                                                                                  \n",
            " activation_32 (Activation)     (None, 12, 12, 128)  0           ['batch_normalization_32[0][0]'] \n",
            "                                                                                                  \n",
            " activation_37 (Activation)     (None, 12, 12, 128)  0           ['batch_normalization_37[0][0]'] \n",
            "                                                                                                  \n",
            " average_pooling2d_3 (AveragePo  (None, 12, 12, 768)  0          ['mixed3[0][0]']                 \n",
            " oling2D)                                                                                         \n",
            "                                                                                                  \n",
            " conv2d_30 (Conv2D)             (None, 12, 12, 192)  147456      ['mixed3[0][0]']                 \n",
            "                                                                                                  \n",
            " conv2d_33 (Conv2D)             (None, 12, 12, 192)  172032      ['activation_32[0][0]']          \n",
            "                                                                                                  \n",
            " conv2d_38 (Conv2D)             (None, 12, 12, 192)  172032      ['activation_37[0][0]']          \n",
            "                                                                                                  \n",
            " conv2d_39 (Conv2D)             (None, 12, 12, 192)  147456      ['average_pooling2d_3[0][0]']    \n",
            "                                                                                                  \n",
            " batch_normalization_30 (BatchN  (None, 12, 12, 192)  576        ['conv2d_30[0][0]']              \n",
            " ormalization)                                                                                    \n",
            "                                                                                                  \n",
            " batch_normalization_33 (BatchN  (None, 12, 12, 192)  576        ['conv2d_33[0][0]']              \n",
            " ormalization)                                                                                    \n",
            "                                                                                                  \n",
            " batch_normalization_38 (BatchN  (None, 12, 12, 192)  576        ['conv2d_38[0][0]']              \n",
            " ormalization)                                                                                    \n",
            "                                                                                                  \n",
            " batch_normalization_39 (BatchN  (None, 12, 12, 192)  576        ['conv2d_39[0][0]']              \n",
            " ormalization)                                                                                    \n",
            "                                                                                                  \n",
            " activation_30 (Activation)     (None, 12, 12, 192)  0           ['batch_normalization_30[0][0]'] \n",
            "                                                                                                  \n",
            " activation_33 (Activation)     (None, 12, 12, 192)  0           ['batch_normalization_33[0][0]'] \n",
            "                                                                                                  \n",
            " activation_38 (Activation)     (None, 12, 12, 192)  0           ['batch_normalization_38[0][0]'] \n",
            "                                                                                                  \n",
            " activation_39 (Activation)     (None, 12, 12, 192)  0           ['batch_normalization_39[0][0]'] \n",
            "                                                                                                  \n",
            " mixed4 (Concatenate)           (None, 12, 12, 768)  0           ['activation_30[0][0]',          \n",
            "                                                                  'activation_33[0][0]',          \n",
            "                                                                  'activation_38[0][0]',          \n",
            "                                                                  'activation_39[0][0]']          \n",
            "                                                                                                  \n",
            " conv2d_44 (Conv2D)             (None, 12, 12, 160)  122880      ['mixed4[0][0]']                 \n",
            "                                                                                                  \n",
            " batch_normalization_44 (BatchN  (None, 12, 12, 160)  480        ['conv2d_44[0][0]']              \n",
            " ormalization)                                                                                    \n",
            "                                                                                                  \n",
            " activation_44 (Activation)     (None, 12, 12, 160)  0           ['batch_normalization_44[0][0]'] \n",
            "                                                                                                  \n",
            " conv2d_45 (Conv2D)             (None, 12, 12, 160)  179200      ['activation_44[0][0]']          \n",
            "                                                                                                  \n",
            " batch_normalization_45 (BatchN  (None, 12, 12, 160)  480        ['conv2d_45[0][0]']              \n",
            " ormalization)                                                                                    \n",
            "                                                                                                  \n",
            " activation_45 (Activation)     (None, 12, 12, 160)  0           ['batch_normalization_45[0][0]'] \n",
            "                                                                                                  \n",
            " conv2d_41 (Conv2D)             (None, 12, 12, 160)  122880      ['mixed4[0][0]']                 \n",
            "                                                                                                  \n",
            " conv2d_46 (Conv2D)             (None, 12, 12, 160)  179200      ['activation_45[0][0]']          \n",
            "                                                                                                  \n",
            " batch_normalization_41 (BatchN  (None, 12, 12, 160)  480        ['conv2d_41[0][0]']              \n",
            " ormalization)                                                                                    \n",
            "                                                                                                  \n",
            " batch_normalization_46 (BatchN  (None, 12, 12, 160)  480        ['conv2d_46[0][0]']              \n",
            " ormalization)                                                                                    \n",
            "                                                                                                  \n",
            " activation_41 (Activation)     (None, 12, 12, 160)  0           ['batch_normalization_41[0][0]'] \n",
            "                                                                                                  \n",
            " activation_46 (Activation)     (None, 12, 12, 160)  0           ['batch_normalization_46[0][0]'] \n",
            "                                                                                                  \n",
            " conv2d_42 (Conv2D)             (None, 12, 12, 160)  179200      ['activation_41[0][0]']          \n",
            "                                                                                                  \n",
            " conv2d_47 (Conv2D)             (None, 12, 12, 160)  179200      ['activation_46[0][0]']          \n",
            "                                                                                                  \n",
            " batch_normalization_42 (BatchN  (None, 12, 12, 160)  480        ['conv2d_42[0][0]']              \n",
            " ormalization)                                                                                    \n",
            "                                                                                                  \n",
            " batch_normalization_47 (BatchN  (None, 12, 12, 160)  480        ['conv2d_47[0][0]']              \n",
            " ormalization)                                                                                    \n",
            "                                                                                                  \n",
            " activation_42 (Activation)     (None, 12, 12, 160)  0           ['batch_normalization_42[0][0]'] \n",
            "                                                                                                  \n",
            " activation_47 (Activation)     (None, 12, 12, 160)  0           ['batch_normalization_47[0][0]'] \n",
            "                                                                                                  \n",
            " average_pooling2d_4 (AveragePo  (None, 12, 12, 768)  0          ['mixed4[0][0]']                 \n",
            " oling2D)                                                                                         \n",
            "                                                                                                  \n",
            " conv2d_40 (Conv2D)             (None, 12, 12, 192)  147456      ['mixed4[0][0]']                 \n",
            "                                                                                                  \n",
            " conv2d_43 (Conv2D)             (None, 12, 12, 192)  215040      ['activation_42[0][0]']          \n",
            "                                                                                                  \n",
            " conv2d_48 (Conv2D)             (None, 12, 12, 192)  215040      ['activation_47[0][0]']          \n",
            "                                                                                                  \n",
            " conv2d_49 (Conv2D)             (None, 12, 12, 192)  147456      ['average_pooling2d_4[0][0]']    \n",
            "                                                                                                  \n",
            " batch_normalization_40 (BatchN  (None, 12, 12, 192)  576        ['conv2d_40[0][0]']              \n",
            " ormalization)                                                                                    \n",
            "                                                                                                  \n",
            " batch_normalization_43 (BatchN  (None, 12, 12, 192)  576        ['conv2d_43[0][0]']              \n",
            " ormalization)                                                                                    \n",
            "                                                                                                  \n",
            " batch_normalization_48 (BatchN  (None, 12, 12, 192)  576        ['conv2d_48[0][0]']              \n",
            " ormalization)                                                                                    \n",
            "                                                                                                  \n",
            " batch_normalization_49 (BatchN  (None, 12, 12, 192)  576        ['conv2d_49[0][0]']              \n",
            " ormalization)                                                                                    \n",
            "                                                                                                  \n",
            " activation_40 (Activation)     (None, 12, 12, 192)  0           ['batch_normalization_40[0][0]'] \n",
            "                                                                                                  \n",
            " activation_43 (Activation)     (None, 12, 12, 192)  0           ['batch_normalization_43[0][0]'] \n",
            "                                                                                                  \n",
            " activation_48 (Activation)     (None, 12, 12, 192)  0           ['batch_normalization_48[0][0]'] \n",
            "                                                                                                  \n",
            " activation_49 (Activation)     (None, 12, 12, 192)  0           ['batch_normalization_49[0][0]'] \n",
            "                                                                                                  \n",
            " mixed5 (Concatenate)           (None, 12, 12, 768)  0           ['activation_40[0][0]',          \n",
            "                                                                  'activation_43[0][0]',          \n",
            "                                                                  'activation_48[0][0]',          \n",
            "                                                                  'activation_49[0][0]']          \n",
            "                                                                                                  \n",
            " conv2d_54 (Conv2D)             (None, 12, 12, 160)  122880      ['mixed5[0][0]']                 \n",
            "                                                                                                  \n",
            " batch_normalization_54 (BatchN  (None, 12, 12, 160)  480        ['conv2d_54[0][0]']              \n",
            " ormalization)                                                                                    \n",
            "                                                                                                  \n",
            " activation_54 (Activation)     (None, 12, 12, 160)  0           ['batch_normalization_54[0][0]'] \n",
            "                                                                                                  \n",
            " conv2d_55 (Conv2D)             (None, 12, 12, 160)  179200      ['activation_54[0][0]']          \n",
            "                                                                                                  \n",
            " batch_normalization_55 (BatchN  (None, 12, 12, 160)  480        ['conv2d_55[0][0]']              \n",
            " ormalization)                                                                                    \n",
            "                                                                                                  \n",
            " activation_55 (Activation)     (None, 12, 12, 160)  0           ['batch_normalization_55[0][0]'] \n",
            "                                                                                                  \n",
            " conv2d_51 (Conv2D)             (None, 12, 12, 160)  122880      ['mixed5[0][0]']                 \n",
            "                                                                                                  \n",
            " conv2d_56 (Conv2D)             (None, 12, 12, 160)  179200      ['activation_55[0][0]']          \n",
            "                                                                                                  \n",
            " batch_normalization_51 (BatchN  (None, 12, 12, 160)  480        ['conv2d_51[0][0]']              \n",
            " ormalization)                                                                                    \n",
            "                                                                                                  \n",
            " batch_normalization_56 (BatchN  (None, 12, 12, 160)  480        ['conv2d_56[0][0]']              \n",
            " ormalization)                                                                                    \n",
            "                                                                                                  \n",
            " activation_51 (Activation)     (None, 12, 12, 160)  0           ['batch_normalization_51[0][0]'] \n",
            "                                                                                                  \n",
            " activation_56 (Activation)     (None, 12, 12, 160)  0           ['batch_normalization_56[0][0]'] \n",
            "                                                                                                  \n",
            " conv2d_52 (Conv2D)             (None, 12, 12, 160)  179200      ['activation_51[0][0]']          \n",
            "                                                                                                  \n",
            " conv2d_57 (Conv2D)             (None, 12, 12, 160)  179200      ['activation_56[0][0]']          \n",
            "                                                                                                  \n",
            " batch_normalization_52 (BatchN  (None, 12, 12, 160)  480        ['conv2d_52[0][0]']              \n",
            " ormalization)                                                                                    \n",
            "                                                                                                  \n",
            " batch_normalization_57 (BatchN  (None, 12, 12, 160)  480        ['conv2d_57[0][0]']              \n",
            " ormalization)                                                                                    \n",
            "                                                                                                  \n",
            " activation_52 (Activation)     (None, 12, 12, 160)  0           ['batch_normalization_52[0][0]'] \n",
            "                                                                                                  \n",
            " activation_57 (Activation)     (None, 12, 12, 160)  0           ['batch_normalization_57[0][0]'] \n",
            "                                                                                                  \n",
            " average_pooling2d_5 (AveragePo  (None, 12, 12, 768)  0          ['mixed5[0][0]']                 \n",
            " oling2D)                                                                                         \n",
            "                                                                                                  \n",
            " conv2d_50 (Conv2D)             (None, 12, 12, 192)  147456      ['mixed5[0][0]']                 \n",
            "                                                                                                  \n",
            " conv2d_53 (Conv2D)             (None, 12, 12, 192)  215040      ['activation_52[0][0]']          \n",
            "                                                                                                  \n",
            " conv2d_58 (Conv2D)             (None, 12, 12, 192)  215040      ['activation_57[0][0]']          \n",
            "                                                                                                  \n",
            " conv2d_59 (Conv2D)             (None, 12, 12, 192)  147456      ['average_pooling2d_5[0][0]']    \n",
            "                                                                                                  \n",
            " batch_normalization_50 (BatchN  (None, 12, 12, 192)  576        ['conv2d_50[0][0]']              \n",
            " ormalization)                                                                                    \n",
            "                                                                                                  \n",
            " batch_normalization_53 (BatchN  (None, 12, 12, 192)  576        ['conv2d_53[0][0]']              \n",
            " ormalization)                                                                                    \n",
            "                                                                                                  \n",
            " batch_normalization_58 (BatchN  (None, 12, 12, 192)  576        ['conv2d_58[0][0]']              \n",
            " ormalization)                                                                                    \n",
            "                                                                                                  \n",
            " batch_normalization_59 (BatchN  (None, 12, 12, 192)  576        ['conv2d_59[0][0]']              \n",
            " ormalization)                                                                                    \n",
            "                                                                                                  \n",
            " activation_50 (Activation)     (None, 12, 12, 192)  0           ['batch_normalization_50[0][0]'] \n",
            "                                                                                                  \n",
            " activation_53 (Activation)     (None, 12, 12, 192)  0           ['batch_normalization_53[0][0]'] \n",
            "                                                                                                  \n",
            " activation_58 (Activation)     (None, 12, 12, 192)  0           ['batch_normalization_58[0][0]'] \n",
            "                                                                                                  \n",
            " activation_59 (Activation)     (None, 12, 12, 192)  0           ['batch_normalization_59[0][0]'] \n",
            "                                                                                                  \n",
            " mixed6 (Concatenate)           (None, 12, 12, 768)  0           ['activation_50[0][0]',          \n",
            "                                                                  'activation_53[0][0]',          \n",
            "                                                                  'activation_58[0][0]',          \n",
            "                                                                  'activation_59[0][0]']          \n",
            "                                                                                                  \n",
            " conv2d_64 (Conv2D)             (None, 12, 12, 192)  147456      ['mixed6[0][0]']                 \n",
            "                                                                                                  \n",
            " batch_normalization_64 (BatchN  (None, 12, 12, 192)  576        ['conv2d_64[0][0]']              \n",
            " ormalization)                                                                                    \n",
            "                                                                                                  \n",
            " activation_64 (Activation)     (None, 12, 12, 192)  0           ['batch_normalization_64[0][0]'] \n",
            "                                                                                                  \n",
            " conv2d_65 (Conv2D)             (None, 12, 12, 192)  258048      ['activation_64[0][0]']          \n",
            "                                                                                                  \n",
            " batch_normalization_65 (BatchN  (None, 12, 12, 192)  576        ['conv2d_65[0][0]']              \n",
            " ormalization)                                                                                    \n",
            "                                                                                                  \n",
            " activation_65 (Activation)     (None, 12, 12, 192)  0           ['batch_normalization_65[0][0]'] \n",
            "                                                                                                  \n",
            " conv2d_61 (Conv2D)             (None, 12, 12, 192)  147456      ['mixed6[0][0]']                 \n",
            "                                                                                                  \n",
            " conv2d_66 (Conv2D)             (None, 12, 12, 192)  258048      ['activation_65[0][0]']          \n",
            "                                                                                                  \n",
            " batch_normalization_61 (BatchN  (None, 12, 12, 192)  576        ['conv2d_61[0][0]']              \n",
            " ormalization)                                                                                    \n",
            "                                                                                                  \n",
            " batch_normalization_66 (BatchN  (None, 12, 12, 192)  576        ['conv2d_66[0][0]']              \n",
            " ormalization)                                                                                    \n",
            "                                                                                                  \n",
            " activation_61 (Activation)     (None, 12, 12, 192)  0           ['batch_normalization_61[0][0]'] \n",
            "                                                                                                  \n",
            " activation_66 (Activation)     (None, 12, 12, 192)  0           ['batch_normalization_66[0][0]'] \n",
            "                                                                                                  \n",
            " conv2d_62 (Conv2D)             (None, 12, 12, 192)  258048      ['activation_61[0][0]']          \n",
            "                                                                                                  \n",
            " conv2d_67 (Conv2D)             (None, 12, 12, 192)  258048      ['activation_66[0][0]']          \n",
            "                                                                                                  \n",
            " batch_normalization_62 (BatchN  (None, 12, 12, 192)  576        ['conv2d_62[0][0]']              \n",
            " ormalization)                                                                                    \n",
            "                                                                                                  \n",
            " batch_normalization_67 (BatchN  (None, 12, 12, 192)  576        ['conv2d_67[0][0]']              \n",
            " ormalization)                                                                                    \n",
            "                                                                                                  \n",
            " activation_62 (Activation)     (None, 12, 12, 192)  0           ['batch_normalization_62[0][0]'] \n",
            "                                                                                                  \n",
            " activation_67 (Activation)     (None, 12, 12, 192)  0           ['batch_normalization_67[0][0]'] \n",
            "                                                                                                  \n",
            " average_pooling2d_6 (AveragePo  (None, 12, 12, 768)  0          ['mixed6[0][0]']                 \n",
            " oling2D)                                                                                         \n",
            "                                                                                                  \n",
            " conv2d_60 (Conv2D)             (None, 12, 12, 192)  147456      ['mixed6[0][0]']                 \n",
            "                                                                                                  \n",
            " conv2d_63 (Conv2D)             (None, 12, 12, 192)  258048      ['activation_62[0][0]']          \n",
            "                                                                                                  \n",
            " conv2d_68 (Conv2D)             (None, 12, 12, 192)  258048      ['activation_67[0][0]']          \n",
            "                                                                                                  \n",
            " conv2d_69 (Conv2D)             (None, 12, 12, 192)  147456      ['average_pooling2d_6[0][0]']    \n",
            "                                                                                                  \n",
            " batch_normalization_60 (BatchN  (None, 12, 12, 192)  576        ['conv2d_60[0][0]']              \n",
            " ormalization)                                                                                    \n",
            "                                                                                                  \n",
            " batch_normalization_63 (BatchN  (None, 12, 12, 192)  576        ['conv2d_63[0][0]']              \n",
            " ormalization)                                                                                    \n",
            "                                                                                                  \n",
            " batch_normalization_68 (BatchN  (None, 12, 12, 192)  576        ['conv2d_68[0][0]']              \n",
            " ormalization)                                                                                    \n",
            "                                                                                                  \n",
            " batch_normalization_69 (BatchN  (None, 12, 12, 192)  576        ['conv2d_69[0][0]']              \n",
            " ormalization)                                                                                    \n",
            "                                                                                                  \n",
            " activation_60 (Activation)     (None, 12, 12, 192)  0           ['batch_normalization_60[0][0]'] \n",
            "                                                                                                  \n",
            " activation_63 (Activation)     (None, 12, 12, 192)  0           ['batch_normalization_63[0][0]'] \n",
            "                                                                                                  \n",
            " activation_68 (Activation)     (None, 12, 12, 192)  0           ['batch_normalization_68[0][0]'] \n",
            "                                                                                                  \n",
            " activation_69 (Activation)     (None, 12, 12, 192)  0           ['batch_normalization_69[0][0]'] \n",
            "                                                                                                  \n",
            " mixed7 (Concatenate)           (None, 12, 12, 768)  0           ['activation_60[0][0]',          \n",
            "                                                                  'activation_63[0][0]',          \n",
            "                                                                  'activation_68[0][0]',          \n",
            "                                                                  'activation_69[0][0]']          \n",
            "                                                                                                  \n",
            " conv2d_72 (Conv2D)             (None, 12, 12, 192)  147456      ['mixed7[0][0]']                 \n",
            "                                                                                                  \n",
            " batch_normalization_72 (BatchN  (None, 12, 12, 192)  576        ['conv2d_72[0][0]']              \n",
            " ormalization)                                                                                    \n",
            "                                                                                                  \n",
            " activation_72 (Activation)     (None, 12, 12, 192)  0           ['batch_normalization_72[0][0]'] \n",
            "                                                                                                  \n",
            " conv2d_73 (Conv2D)             (None, 12, 12, 192)  258048      ['activation_72[0][0]']          \n",
            "                                                                                                  \n",
            " batch_normalization_73 (BatchN  (None, 12, 12, 192)  576        ['conv2d_73[0][0]']              \n",
            " ormalization)                                                                                    \n",
            "                                                                                                  \n",
            " activation_73 (Activation)     (None, 12, 12, 192)  0           ['batch_normalization_73[0][0]'] \n",
            "                                                                                                  \n",
            " conv2d_70 (Conv2D)             (None, 12, 12, 192)  147456      ['mixed7[0][0]']                 \n",
            "                                                                                                  \n",
            " conv2d_74 (Conv2D)             (None, 12, 12, 192)  258048      ['activation_73[0][0]']          \n",
            "                                                                                                  \n",
            " batch_normalization_70 (BatchN  (None, 12, 12, 192)  576        ['conv2d_70[0][0]']              \n",
            " ormalization)                                                                                    \n",
            "                                                                                                  \n",
            " batch_normalization_74 (BatchN  (None, 12, 12, 192)  576        ['conv2d_74[0][0]']              \n",
            " ormalization)                                                                                    \n",
            "                                                                                                  \n",
            " activation_70 (Activation)     (None, 12, 12, 192)  0           ['batch_normalization_70[0][0]'] \n",
            "                                                                                                  \n",
            " activation_74 (Activation)     (None, 12, 12, 192)  0           ['batch_normalization_74[0][0]'] \n",
            "                                                                                                  \n",
            " conv2d_71 (Conv2D)             (None, 5, 5, 320)    552960      ['activation_70[0][0]']          \n",
            "                                                                                                  \n",
            " conv2d_75 (Conv2D)             (None, 5, 5, 192)    331776      ['activation_74[0][0]']          \n",
            "                                                                                                  \n",
            " batch_normalization_71 (BatchN  (None, 5, 5, 320)   960         ['conv2d_71[0][0]']              \n",
            " ormalization)                                                                                    \n",
            "                                                                                                  \n",
            " batch_normalization_75 (BatchN  (None, 5, 5, 192)   576         ['conv2d_75[0][0]']              \n",
            " ormalization)                                                                                    \n",
            "                                                                                                  \n",
            " activation_71 (Activation)     (None, 5, 5, 320)    0           ['batch_normalization_71[0][0]'] \n",
            "                                                                                                  \n",
            " activation_75 (Activation)     (None, 5, 5, 192)    0           ['batch_normalization_75[0][0]'] \n",
            "                                                                                                  \n",
            " max_pooling2d_3 (MaxPooling2D)  (None, 5, 5, 768)   0           ['mixed7[0][0]']                 \n",
            "                                                                                                  \n",
            " mixed8 (Concatenate)           (None, 5, 5, 1280)   0           ['activation_71[0][0]',          \n",
            "                                                                  'activation_75[0][0]',          \n",
            "                                                                  'max_pooling2d_3[0][0]']        \n",
            "                                                                                                  \n",
            " conv2d_80 (Conv2D)             (None, 5, 5, 448)    573440      ['mixed8[0][0]']                 \n",
            "                                                                                                  \n",
            " batch_normalization_80 (BatchN  (None, 5, 5, 448)   1344        ['conv2d_80[0][0]']              \n",
            " ormalization)                                                                                    \n",
            "                                                                                                  \n",
            " activation_80 (Activation)     (None, 5, 5, 448)    0           ['batch_normalization_80[0][0]'] \n",
            "                                                                                                  \n",
            " conv2d_77 (Conv2D)             (None, 5, 5, 384)    491520      ['mixed8[0][0]']                 \n",
            "                                                                                                  \n",
            " conv2d_81 (Conv2D)             (None, 5, 5, 384)    1548288     ['activation_80[0][0]']          \n",
            "                                                                                                  \n",
            " batch_normalization_77 (BatchN  (None, 5, 5, 384)   1152        ['conv2d_77[0][0]']              \n",
            " ormalization)                                                                                    \n",
            "                                                                                                  \n",
            " batch_normalization_81 (BatchN  (None, 5, 5, 384)   1152        ['conv2d_81[0][0]']              \n",
            " ormalization)                                                                                    \n",
            "                                                                                                  \n",
            " activation_77 (Activation)     (None, 5, 5, 384)    0           ['batch_normalization_77[0][0]'] \n",
            "                                                                                                  \n",
            " activation_81 (Activation)     (None, 5, 5, 384)    0           ['batch_normalization_81[0][0]'] \n",
            "                                                                                                  \n",
            " conv2d_78 (Conv2D)             (None, 5, 5, 384)    442368      ['activation_77[0][0]']          \n",
            "                                                                                                  \n",
            " conv2d_79 (Conv2D)             (None, 5, 5, 384)    442368      ['activation_77[0][0]']          \n",
            "                                                                                                  \n",
            " conv2d_82 (Conv2D)             (None, 5, 5, 384)    442368      ['activation_81[0][0]']          \n",
            "                                                                                                  \n",
            " conv2d_83 (Conv2D)             (None, 5, 5, 384)    442368      ['activation_81[0][0]']          \n",
            "                                                                                                  \n",
            " average_pooling2d_7 (AveragePo  (None, 5, 5, 1280)  0           ['mixed8[0][0]']                 \n",
            " oling2D)                                                                                         \n",
            "                                                                                                  \n",
            " conv2d_76 (Conv2D)             (None, 5, 5, 320)    409600      ['mixed8[0][0]']                 \n",
            "                                                                                                  \n",
            " batch_normalization_78 (BatchN  (None, 5, 5, 384)   1152        ['conv2d_78[0][0]']              \n",
            " ormalization)                                                                                    \n",
            "                                                                                                  \n",
            " batch_normalization_79 (BatchN  (None, 5, 5, 384)   1152        ['conv2d_79[0][0]']              \n",
            " ormalization)                                                                                    \n",
            "                                                                                                  \n",
            " batch_normalization_82 (BatchN  (None, 5, 5, 384)   1152        ['conv2d_82[0][0]']              \n",
            " ormalization)                                                                                    \n",
            "                                                                                                  \n",
            " batch_normalization_83 (BatchN  (None, 5, 5, 384)   1152        ['conv2d_83[0][0]']              \n",
            " ormalization)                                                                                    \n",
            "                                                                                                  \n",
            " conv2d_84 (Conv2D)             (None, 5, 5, 192)    245760      ['average_pooling2d_7[0][0]']    \n",
            "                                                                                                  \n",
            " batch_normalization_76 (BatchN  (None, 5, 5, 320)   960         ['conv2d_76[0][0]']              \n",
            " ormalization)                                                                                    \n",
            "                                                                                                  \n",
            " activation_78 (Activation)     (None, 5, 5, 384)    0           ['batch_normalization_78[0][0]'] \n",
            "                                                                                                  \n",
            " activation_79 (Activation)     (None, 5, 5, 384)    0           ['batch_normalization_79[0][0]'] \n",
            "                                                                                                  \n",
            " activation_82 (Activation)     (None, 5, 5, 384)    0           ['batch_normalization_82[0][0]'] \n",
            "                                                                                                  \n",
            " activation_83 (Activation)     (None, 5, 5, 384)    0           ['batch_normalization_83[0][0]'] \n",
            "                                                                                                  \n",
            " batch_normalization_84 (BatchN  (None, 5, 5, 192)   576         ['conv2d_84[0][0]']              \n",
            " ormalization)                                                                                    \n",
            "                                                                                                  \n",
            " activation_76 (Activation)     (None, 5, 5, 320)    0           ['batch_normalization_76[0][0]'] \n",
            "                                                                                                  \n",
            " mixed9_0 (Concatenate)         (None, 5, 5, 768)    0           ['activation_78[0][0]',          \n",
            "                                                                  'activation_79[0][0]']          \n",
            "                                                                                                  \n",
            " concatenate (Concatenate)      (None, 5, 5, 768)    0           ['activation_82[0][0]',          \n",
            "                                                                  'activation_83[0][0]']          \n",
            "                                                                                                  \n",
            " activation_84 (Activation)     (None, 5, 5, 192)    0           ['batch_normalization_84[0][0]'] \n",
            "                                                                                                  \n",
            " mixed9 (Concatenate)           (None, 5, 5, 2048)   0           ['activation_76[0][0]',          \n",
            "                                                                  'mixed9_0[0][0]',               \n",
            "                                                                  'concatenate[0][0]',            \n",
            "                                                                  'activation_84[0][0]']          \n",
            "                                                                                                  \n",
            " conv2d_89 (Conv2D)             (None, 5, 5, 448)    917504      ['mixed9[0][0]']                 \n",
            "                                                                                                  \n",
            " batch_normalization_89 (BatchN  (None, 5, 5, 448)   1344        ['conv2d_89[0][0]']              \n",
            " ormalization)                                                                                    \n",
            "                                                                                                  \n",
            " activation_89 (Activation)     (None, 5, 5, 448)    0           ['batch_normalization_89[0][0]'] \n",
            "                                                                                                  \n",
            " conv2d_86 (Conv2D)             (None, 5, 5, 384)    786432      ['mixed9[0][0]']                 \n",
            "                                                                                                  \n",
            " conv2d_90 (Conv2D)             (None, 5, 5, 384)    1548288     ['activation_89[0][0]']          \n",
            "                                                                                                  \n",
            " batch_normalization_86 (BatchN  (None, 5, 5, 384)   1152        ['conv2d_86[0][0]']              \n",
            " ormalization)                                                                                    \n",
            "                                                                                                  \n",
            " batch_normalization_90 (BatchN  (None, 5, 5, 384)   1152        ['conv2d_90[0][0]']              \n",
            " ormalization)                                                                                    \n",
            "                                                                                                  \n",
            " activation_86 (Activation)     (None, 5, 5, 384)    0           ['batch_normalization_86[0][0]'] \n",
            "                                                                                                  \n",
            " activation_90 (Activation)     (None, 5, 5, 384)    0           ['batch_normalization_90[0][0]'] \n",
            "                                                                                                  \n",
            " conv2d_87 (Conv2D)             (None, 5, 5, 384)    442368      ['activation_86[0][0]']          \n",
            "                                                                                                  \n",
            " conv2d_88 (Conv2D)             (None, 5, 5, 384)    442368      ['activation_86[0][0]']          \n",
            "                                                                                                  \n",
            " conv2d_91 (Conv2D)             (None, 5, 5, 384)    442368      ['activation_90[0][0]']          \n",
            "                                                                                                  \n",
            " conv2d_92 (Conv2D)             (None, 5, 5, 384)    442368      ['activation_90[0][0]']          \n",
            "                                                                                                  \n",
            " average_pooling2d_8 (AveragePo  (None, 5, 5, 2048)  0           ['mixed9[0][0]']                 \n",
            " oling2D)                                                                                         \n",
            "                                                                                                  \n",
            " conv2d_85 (Conv2D)             (None, 5, 5, 320)    655360      ['mixed9[0][0]']                 \n",
            "                                                                                                  \n",
            " batch_normalization_87 (BatchN  (None, 5, 5, 384)   1152        ['conv2d_87[0][0]']              \n",
            " ormalization)                                                                                    \n",
            "                                                                                                  \n",
            " batch_normalization_88 (BatchN  (None, 5, 5, 384)   1152        ['conv2d_88[0][0]']              \n",
            " ormalization)                                                                                    \n",
            "                                                                                                  \n",
            " batch_normalization_91 (BatchN  (None, 5, 5, 384)   1152        ['conv2d_91[0][0]']              \n",
            " ormalization)                                                                                    \n",
            "                                                                                                  \n",
            " batch_normalization_92 (BatchN  (None, 5, 5, 384)   1152        ['conv2d_92[0][0]']              \n",
            " ormalization)                                                                                    \n",
            "                                                                                                  \n",
            " conv2d_93 (Conv2D)             (None, 5, 5, 192)    393216      ['average_pooling2d_8[0][0]']    \n",
            "                                                                                                  \n",
            " batch_normalization_85 (BatchN  (None, 5, 5, 320)   960         ['conv2d_85[0][0]']              \n",
            " ormalization)                                                                                    \n",
            "                                                                                                  \n",
            " activation_87 (Activation)     (None, 5, 5, 384)    0           ['batch_normalization_87[0][0]'] \n",
            "                                                                                                  \n",
            " activation_88 (Activation)     (None, 5, 5, 384)    0           ['batch_normalization_88[0][0]'] \n",
            "                                                                                                  \n",
            " activation_91 (Activation)     (None, 5, 5, 384)    0           ['batch_normalization_91[0][0]'] \n",
            "                                                                                                  \n",
            " activation_92 (Activation)     (None, 5, 5, 384)    0           ['batch_normalization_92[0][0]'] \n",
            "                                                                                                  \n",
            " batch_normalization_93 (BatchN  (None, 5, 5, 192)   576         ['conv2d_93[0][0]']              \n",
            " ormalization)                                                                                    \n",
            "                                                                                                  \n",
            " activation_85 (Activation)     (None, 5, 5, 320)    0           ['batch_normalization_85[0][0]'] \n",
            "                                                                                                  \n",
            " mixed9_1 (Concatenate)         (None, 5, 5, 768)    0           ['activation_87[0][0]',          \n",
            "                                                                  'activation_88[0][0]']          \n",
            "                                                                                                  \n",
            " concatenate_1 (Concatenate)    (None, 5, 5, 768)    0           ['activation_91[0][0]',          \n",
            "                                                                  'activation_92[0][0]']          \n",
            "                                                                                                  \n",
            " activation_93 (Activation)     (None, 5, 5, 192)    0           ['batch_normalization_93[0][0]'] \n",
            "                                                                                                  \n",
            " mixed10 (Concatenate)          (None, 5, 5, 2048)   0           ['activation_85[0][0]',          \n",
            "                                                                  'mixed9_1[0][0]',               \n",
            "                                                                  'concatenate_1[0][0]',          \n",
            "                                                                  'activation_93[0][0]']          \n",
            "                                                                                                  \n",
            "==================================================================================================\n",
            "Total params: 21,802,784\n",
            "Trainable params: 21,768,352\n",
            "Non-trainable params: 34,432\n",
            "__________________________________________________________________________________________________\n"
          ]
        }
      ],
      "source": [
        "pre_trained_layers.summary()"
      ]
    },
    {
      "cell_type": "code",
      "execution_count": 21,
      "metadata": {
        "id": "MU_j6dypcPwp"
      },
      "outputs": [],
      "source": [
        "#Creating custom model\n",
        "model = keras.Sequential([\n",
        "    data_augmentation,                                                    # data augmentations\n",
        "    pre_trained_layers,                                                   # ResNet pre-trained layers\n",
        "    keras.layers.GlobalAveragePooling2D(),                                # Adding Global average Pooling 2d\n",
        "    tf.keras.layers.Dropout(0.3),\n",
        "    keras.layers.Dense(number_of_class_labels, activation='softmax', name='output')  # Final Dense Layer with 30 neurons\n",
        "])"
      ]
    },
    {
      "cell_type": "code",
      "execution_count": 22,
      "metadata": {
        "id": "41gFu9xKb0CU"
      },
      "outputs": [],
      "source": [
        "EPOCHS = 5\n",
        "LR = 1e-3\n",
        "model.compile(optimizer=keras.optimizers.Adam(learning_rate=LR),\n",
        "              loss=tf.keras.losses.SparseCategoricalCrossentropy(),\n",
        "              metrics=['accuracy'])"
      ]
    },
    {
      "cell_type": "code",
      "execution_count": 23,
      "metadata": {
        "colab": {
          "base_uri": "https://localhost:8080/"
        },
        "id": "XCFHANKAcmVS",
        "outputId": "f59a2562-5f9c-44d1-b9bf-f1cbc3e39497"
      },
      "outputs": [
        {
          "output_type": "stream",
          "name": "stdout",
          "text": [
            "Model: \"sequential_1\"\n",
            "_________________________________________________________________\n",
            " Layer (type)                Output Shape              Param #   \n",
            "=================================================================\n",
            " sequential (Sequential)     (1, 224, 224, 3)          0         \n",
            "                                                                 \n",
            " inception_v3 (Functional)   (None, 5, 5, 2048)        21802784  \n",
            "                                                                 \n",
            " global_average_pooling2d (G  (1, 2048)                0         \n",
            " lobalAveragePooling2D)                                          \n",
            "                                                                 \n",
            " dropout (Dropout)           (1, 2048)                 0         \n",
            "                                                                 \n",
            " output (Dense)              (1, 10)                   20490     \n",
            "                                                                 \n",
            "=================================================================\n",
            "Total params: 21,823,274\n",
            "Trainable params: 21,788,842\n",
            "Non-trainable params: 34,432\n",
            "_________________________________________________________________\n"
          ]
        }
      ],
      "source": [
        "#printing summary of custom model\n",
        "model.build((1,224,224,3))\n",
        "model.summary()"
      ]
    },
    {
      "cell_type": "code",
      "execution_count": 24,
      "metadata": {
        "id": "AMvex2WIc1hi"
      },
      "outputs": [],
      "source": [
        "from tensorflow.keras.callbacks import ReduceLROnPlateau"
      ]
    },
    {
      "cell_type": "code",
      "execution_count": 25,
      "metadata": {
        "id": "LM1NDxA1cnxB"
      },
      "outputs": [],
      "source": [
        "# Callback -> Reduce Learning Rate on Plateau\n",
        "callback = ReduceLROnPlateau(monitor='val_loss', factor=0.1, patience=3, verbose=1, mode='auto',\n",
        "                             min_delta=0.0001, cooldown=0, min_lr=0.00001)"
      ]
    },
    {
      "cell_type": "code",
      "execution_count": 26,
      "metadata": {
        "id": "h6-FwHIUaRPh",
        "colab": {
          "base_uri": "https://localhost:8080/"
        },
        "outputId": "ea3e75bc-7b32-48e9-da92-538d3b58465a"
      },
      "outputs": [
        {
          "output_type": "stream",
          "name": "stdout",
          "text": [
            "No file moved. Source empty!\n",
            "No file moved. Source empty!\n",
            "No file moved. Source empty!\n",
            "No file moved. Source empty!\n",
            "No file moved. Source empty!\n",
            "No file moved. Source empty!\n",
            "No file moved. Source empty!\n",
            "No file moved. Source empty!\n",
            "No file moved. Source empty!\n",
            "No file moved. Source empty!\n",
            "Results for fold 1\n",
            "Found 3368 files belonging to 10 classes.\n",
            "Found 843 files belonging to 10 classes.\n",
            "Epoch 1/5\n",
            "211/211 [==============================] - 97s 195ms/step - loss: 1.4295 - accuracy: 0.5193 - val_loss: 4.8683 - val_accuracy: 0.2942 - lr: 0.0010\n",
            "Epoch 2/5\n",
            "211/211 [==============================] - 36s 169ms/step - loss: 1.0029 - accuracy: 0.6651 - val_loss: 2.4527 - val_accuracy: 0.4057 - lr: 0.0010\n",
            "Epoch 3/5\n",
            "211/211 [==============================] - 36s 168ms/step - loss: 0.8501 - accuracy: 0.7147 - val_loss: 2.7606 - val_accuracy: 0.4626 - lr: 0.0010\n",
            "Epoch 4/5\n",
            "211/211 [==============================] - 43s 202ms/step - loss: 0.7166 - accuracy: 0.7592 - val_loss: 2.7835 - val_accuracy: 0.5160 - lr: 0.0010\n",
            "Epoch 5/5\n",
            "211/211 [==============================] - 42s 197ms/step - loss: 0.6752 - accuracy: 0.7705 - val_loss: 2.3767 - val_accuracy: 0.4745 - lr: 0.0010\n",
            "53/53 [==============================] - 6s 110ms/step - loss: 2.3767 - accuracy: 0.4745\n",
            "Results for fold 2\n",
            "Found 3369 files belonging to 10 classes.\n",
            "Found 842 files belonging to 10 classes.\n",
            "Epoch 1/5\n",
            "211/211 [==============================] - 40s 188ms/step - loss: 0.6358 - accuracy: 0.7806 - val_loss: 2.0676 - val_accuracy: 0.4917 - lr: 0.0010\n",
            "Epoch 2/5\n",
            "211/211 [==============================] - 37s 170ms/step - loss: 0.6192 - accuracy: 0.7809 - val_loss: 3.0834 - val_accuracy: 0.4964 - lr: 0.0010\n",
            "Epoch 3/5\n",
            "211/211 [==============================] - 37s 170ms/step - loss: 0.5662 - accuracy: 0.7999 - val_loss: 1.6333 - val_accuracy: 0.6128 - lr: 0.0010\n",
            "Epoch 4/5\n",
            "211/211 [==============================] - 36s 169ms/step - loss: 0.5127 - accuracy: 0.8201 - val_loss: 2.1752 - val_accuracy: 0.5285 - lr: 0.0010\n",
            "Epoch 5/5\n",
            "211/211 [==============================] - 37s 172ms/step - loss: 0.4848 - accuracy: 0.8329 - val_loss: 1.3050 - val_accuracy: 0.6746 - lr: 0.0010\n",
            "53/53 [==============================] - 4s 78ms/step - loss: 1.3050 - accuracy: 0.6746\n",
            "Results for fold 3\n",
            "Found 3369 files belonging to 10 classes.\n",
            "Found 842 files belonging to 10 classes.\n",
            "Epoch 1/5\n",
            "211/211 [==============================] - 37s 168ms/step - loss: 0.4872 - accuracy: 0.8332 - val_loss: 1.8184 - val_accuracy: 0.5724 - lr: 0.0010\n",
            "Epoch 2/5\n",
            "211/211 [==============================] - 36s 168ms/step - loss: 0.4411 - accuracy: 0.8516 - val_loss: 1.5126 - val_accuracy: 0.6081 - lr: 0.0010\n",
            "Epoch 3/5\n",
            "211/211 [==============================] - 37s 169ms/step - loss: 0.4183 - accuracy: 0.8569 - val_loss: 2.1604 - val_accuracy: 0.5950 - lr: 0.0010\n",
            "Epoch 4/5\n",
            "211/211 [==============================] - 37s 169ms/step - loss: 0.3777 - accuracy: 0.8721 - val_loss: 2.0194 - val_accuracy: 0.5998 - lr: 0.0010\n",
            "Epoch 5/5\n",
            "211/211 [==============================] - 37s 172ms/step - loss: 0.4037 - accuracy: 0.8543 - val_loss: 0.8574 - val_accuracy: 0.7743 - lr: 0.0010\n",
            "53/53 [==============================] - 4s 77ms/step - loss: 0.8574 - accuracy: 0.7743\n",
            "Results for fold 4\n",
            "Found 3369 files belonging to 10 classes.\n",
            "Found 842 files belonging to 10 classes.\n",
            "Epoch 1/5\n",
            "211/211 [==============================] - 36s 166ms/step - loss: 0.3608 - accuracy: 0.8759 - val_loss: 2.3466 - val_accuracy: 0.5606 - lr: 0.0010\n",
            "Epoch 2/5\n",
            "211/211 [==============================] - 36s 170ms/step - loss: 0.3419 - accuracy: 0.8765 - val_loss: 1.8596 - val_accuracy: 0.5487 - lr: 0.0010\n",
            "Epoch 3/5\n",
            "211/211 [==============================] - 37s 173ms/step - loss: 0.3697 - accuracy: 0.8765 - val_loss: 1.7084 - val_accuracy: 0.6556 - lr: 0.0010\n",
            "Epoch 4/5\n",
            "211/211 [==============================] - 37s 173ms/step - loss: 0.3257 - accuracy: 0.8878 - val_loss: 0.7219 - val_accuracy: 0.7910 - lr: 0.0010\n",
            "Epoch 5/5\n",
            "211/211 [==============================] - 36s 168ms/step - loss: 0.3186 - accuracy: 0.8878 - val_loss: 1.0924 - val_accuracy: 0.7257 - lr: 0.0010\n",
            "53/53 [==============================] - 4s 77ms/step - loss: 1.0924 - accuracy: 0.7257\n",
            "Results for fold 5\n",
            "Found 3369 files belonging to 10 classes.\n",
            "Found 842 files belonging to 10 classes.\n",
            "Epoch 1/5\n",
            "211/211 [==============================] - 40s 183ms/step - loss: 0.3224 - accuracy: 0.8905 - val_loss: 1.6893 - val_accuracy: 0.6461 - lr: 0.0010\n",
            "Epoch 2/5\n",
            "211/211 [==============================] - 37s 167ms/step - loss: 0.3108 - accuracy: 0.8937 - val_loss: 0.7719 - val_accuracy: 0.7910 - lr: 0.0010\n",
            "Epoch 3/5\n",
            "211/211 [==============================] - 39s 177ms/step - loss: 0.2988 - accuracy: 0.8955 - val_loss: 3.0448 - val_accuracy: 0.5226 - lr: 0.0010\n",
            "Epoch 4/5\n",
            "211/211 [==============================] - 38s 175ms/step - loss: 0.2580 - accuracy: 0.9062 - val_loss: 0.9622 - val_accuracy: 0.7827 - lr: 0.0010\n",
            "Epoch 5/5\n",
            "211/211 [==============================] - ETA: 0s - loss: 0.3107 - accuracy: 0.8964\n",
            "Epoch 5: ReduceLROnPlateau reducing learning rate to 0.00010000000474974513.\n",
            "211/211 [==============================] - 39s 180ms/step - loss: 0.3107 - accuracy: 0.8964 - val_loss: 5.6536 - val_accuracy: 0.4169 - lr: 0.0010\n",
            "53/53 [==============================] - 4s 83ms/step - loss: 5.6536 - accuracy: 0.4169\n"
          ]
        }
      ],
      "source": [
        "skf = StratifiedKFold(n_splits=5, shuffle=True)\n",
        "skf.get_n_splits(X, Y)\n",
        "fold_num = 0\n",
        "for train_index, val_index in skf.split(X, Y):\n",
        "    # First cut all images from validation to train (if any exists)\n",
        "    transferAllClassBetweenFolders('validation', 'train', 1.0)\n",
        "    fold_num += 1\n",
        "    print(\"Results for fold\", fold_num)\n",
        "    X_train, X_val = X[train_index], X[val_index]\n",
        "    Y_train, Y_val = Y[train_index], Y[val_index]\n",
        "    # Move validation images of this fold from train folder to the validation folder\n",
        "    for each_index in range(len(X_val)):\n",
        "        class_label = ''\n",
        "        for i in range(len(classLabels)):\n",
        "            if(Y_val[each_index] == i):\n",
        "                class_label = classLabels[i]\n",
        "        # Then, copy the validation images to the validation folder\n",
        "        shutil.move(os.path.join(datasetFolderName, 'train', class_label, X_val[each_index]),\n",
        "                    os.path.join(datasetFolderName, 'validation', class_label, X_val[each_index]))\n",
        "\n",
        "\n",
        "\n",
        "    # Start ImageClassification Model\n",
        "    #creating train data set\n",
        "\n",
        "    train_generator = tf.keras.utils.image_dataset_from_directory(\n",
        "        train_path,\n",
        "        image_size=(IMG_SIZE[0], IMG_SIZE[1]),\n",
        "        batch_size=batch_size,\n",
        "        )\n",
        "\n",
        "    validation_generator = tf.keras.utils.image_dataset_from_directory(\n",
        "        validation_path,\n",
        "        image_size=(IMG_SIZE[0], IMG_SIZE[1]),\n",
        "        batch_size=batch_size,\n",
        "\n",
        "          # only data, no labels\n",
        "        shuffle=False\n",
        "        )\n",
        "\n",
        "    history = model.fit(train_generator, epochs=EPOCHS, validation_data=validation_generator, callbacks=callback)\n",
        "    model.evaluate(validation_generator)"
      ]
    },
    {
      "cell_type": "code",
      "execution_count": 27,
      "metadata": {
        "id": "jJurHyH7k6Ny"
      },
      "outputs": [],
      "source": [
        "from sklearn.metrics import classification_report, roc_curve, roc_auc_score\n",
        "import pandas as pd\n",
        "import plotly.graph_objects as go\n",
        "import plotly.express as px\n",
        "import matplotlib.pyplot as plt"
      ]
    },
    {
      "cell_type": "code",
      "execution_count": 28,
      "metadata": {
        "id": "TOQlD_ZTko2y",
        "colab": {
          "base_uri": "https://localhost:8080/",
          "height": 457
        },
        "outputId": "6ef2de97-a320-4d9c-b8c5-40218a986d19"
      },
      "outputs": [
        {
          "output_type": "display_data",
          "data": {
            "text/plain": [
              "<Figure size 640x480 with 1 Axes>"
            ],
            "image/png": "[encoded data removed]"
          },
          "metadata": {}
        }
      ],
      "source": [
        "plt.title(\"Loss\", fontdict={'fontsize':18})\n",
        "plt.plot(history.history['loss'],label='train')\n",
        "plt.plot(history.history['val_loss'],label='validation')\n",
        "plt.legend()\n",
        "plt.show()"
      ]
    },
    {
      "cell_type": "code",
      "execution_count": 29,
      "metadata": {
        "id": "7pwYMz2Bkyt5",
        "colab": {
          "base_uri": "https://localhost:8080/",
          "height": 457
        },
        "outputId": "122ec38d-d585-439a-ae4b-1b93320735bb"
      },
      "outputs": [
        {
          "output_type": "display_data",
          "data": {
            "text/plain": [
              "<Figure size 640x480 with 1 Axes>"
            ],
            "image/png": "[encoded data removed]"
          },
          "metadata": {}
        }
      ],
      "source": [
        "plt.title(\"Accuracy\", fontdict={'fontsize':18})\n",
        "plt.plot(history.history['accuracy'],label='train')\n",
        "plt.plot(history.history['val_accuracy'],label='validation')\n",
        "plt.legend()\n",
        "plt.show()"
      ]
    },
    {
      "cell_type": "code",
      "execution_count": 30,
      "metadata": {
        "id": "93F3DoWUk7Oa"
      },
      "outputs": [],
      "source": [
        "Y_train = []\n",
        "X_train = []\n",
        "for data in train_generator:\n",
        "    X_train.extend(data[0].numpy())\n",
        "    Y_train.extend(data[1].numpy())\n",
        "Y_train = np.array(Y_train)\n",
        "X_train = np.array(X_train)"
      ]
    },
    {
      "cell_type": "code",
      "execution_count": 31,
      "metadata": {
        "id": "IAbUM7JblMA6",
        "colab": {
          "base_uri": "https://localhost:8080/"
        },
        "outputId": "cc7808d5-1f87-4abd-89b4-3da0fc74ff46"
      },
      "outputs": [
        {
          "output_type": "stream",
          "name": "stdout",
          "text": [
            "106/106 [==============================] - 11s 69ms/step\n"
          ]
        }
      ],
      "source": [
        "y_train_pred_prob = model.predict(X_train)\n",
        "y_train_pred = [np.argmax(i) for i in y_train_pred_prob]"
      ]
    },
    {
      "cell_type": "code",
      "execution_count": 32,
      "metadata": {
        "id": "ubgm_cWxlUrD",
        "colab": {
          "base_uri": "https://localhost:8080/"
        },
        "outputId": "36b69465-f5dc-40af-e9c3-67127de0a40c"
      },
      "outputs": [
        {
          "output_type": "execute_result",
          "data": {
            "text/plain": [
              "(3369, 10)"
            ]
          },
          "metadata": {},
          "execution_count": 32
        }
      ],
      "source": [
        "y_train_pred_prob.shape"
      ]
    },
    {
      "cell_type": "code",
      "execution_count": 33,
      "metadata": {
        "id": "A5Ywk5jrlVYi"
      },
      "outputs": [],
      "source": [
        "#function to plot roc-auc curve\n",
        "def roc_auc_curve(y_scores, y_true):\n",
        "    # One hot encode the labels in order to plot them\n",
        "    y_onehot = pd.get_dummies(y_true, columns=classLabels)\n",
        "\n",
        "    # Create an empty figure, and iteratively add new lines\n",
        "    # every time we compute a new class\n",
        "    fig = go.Figure()\n",
        "    fig.add_shape(\n",
        "        type='line', line=dict(dash='dash'),\n",
        "        x0=0, x1=1, y0=0, y1=1\n",
        "    )\n",
        "\n",
        "    for i in range(y_scores.shape[1]):\n",
        "        y_true = y_onehot.iloc[:, i]\n",
        "        y_score = y_scores[:, i]\n",
        "\n",
        "        fpr, tpr, _ = roc_curve(y_true, y_score)\n",
        "        auc_score = roc_auc_score(y_true, y_score)\n",
        "\n",
        "        name = f\"{classLabels[i]} (AUC={auc_score:.2f})\"\n",
        "        fig.add_trace(go.Scatter(x=fpr, y=tpr, name=name, mode='lines'))\n",
        "\n",
        "    fig.update_layout(\n",
        "        title=\"ROC Curve\",\n",
        "        xaxis_title='False Positive Rate',\n",
        "        yaxis_title='True Positive Rate',\n",
        "        yaxis=dict(scaleanchor=\"x\", scaleratio=1),\n",
        "        xaxis=dict(constrain='domain'),\n",
        "        width=900, height=800\n",
        "    )\n",
        "\n",
        "    return fig"
      ]
    },
    {
      "cell_type": "code",
      "execution_count": 34,
      "metadata": {
        "id": "YlYX57A4lj1J"
      },
      "outputs": [],
      "source": [
        "import seaborn as sb"
      ]
    },
    {
      "cell_type": "code",
      "execution_count": 35,
      "metadata": {
        "id": "sZZQfWeDl9wq",
        "colab": {
          "base_uri": "https://localhost:8080/",
          "height": 367
        },
        "outputId": "65f48314-066a-45b8-b6e2-a4f15de04716"
      },
      "outputs": [
        {
          "output_type": "display_data",
          "data": {
            "text/plain": [
              "<Figure size 2500x700 with 2 Axes>"
            ],
            "image/png": "[encoded data removed]"
          },
          "metadata": {}
        }
      ],
      "source": [
        "plt.figure(figsize=(25,7))\n",
        "sb.heatmap(tf.math.confusion_matrix(labels=Y_train,predictions=y_train_pred),annot=True,fmt='.1f', cmap='hot_r')\n",
        "plt.xlabel('Predicted Values')\n",
        "plt.ylabel('Actual Values')\n",
        "plt.title('Confusion Matrix (Training)')\n",
        "plt.tight_layout()\n",
        "plt.show()"
      ]
    },
    {
      "cell_type": "code",
      "execution_count": 36,
      "metadata": {
        "id": "iLpnqOcGmEks",
        "colab": {
          "base_uri": "https://localhost:8080/"
        },
        "outputId": "c1e71752-77ce-466f-8eda-77d14dbcc056"
      },
      "outputs": [
        {
          "output_type": "stream",
          "name": "stdout",
          "text": [
            "Classification Report for Training\n",
            "              precision    recall  f1-score   support\n",
            "\n",
            "           0       0.98      0.72      0.83       320\n",
            "           1       0.83      0.58      0.68       224\n",
            "           2       1.00      0.16      0.27       347\n",
            "           3       0.88      0.22      0.35       320\n",
            "           4       0.51      0.43      0.47       313\n",
            "           5       0.96      0.12      0.22       408\n",
            "           6       0.67      0.05      0.09       220\n",
            "           7       1.00      0.50      0.67       320\n",
            "           8       0.85      0.20      0.32       410\n",
            "           9       0.21      0.99      0.35       487\n",
            "\n",
            "    accuracy                           0.42      3369\n",
            "   macro avg       0.79      0.40      0.42      3369\n",
            "weighted avg       0.77      0.42      0.41      3369\n",
            "\n"
          ]
        }
      ],
      "source": [
        "print(\"Classification Report for Training\")\n",
        "print(classification_report(Y_train, y_train_pred))"
      ]
    },
    {
      "cell_type": "code",
      "execution_count": 37,
      "metadata": {
        "id": "mu3MhzQnmKR5",
        "colab": {
          "base_uri": "https://localhost:8080/"
        },
        "outputId": "0f860938-f05d-40cc-88f1-a9e237b1b736"
      },
      "outputs": [
        {
          "output_type": "stream",
          "name": "stdout",
          "text": [
            "Found 1051 files belonging to 10 classes.\n"
          ]
        }
      ],
      "source": [
        "roc_auc_curve(y_train_pred_prob, Y_train)\n",
        "X_test = []\n",
        "y_test = []\n",
        "test_generator = tf.keras.utils.image_dataset_from_directory(\n",
        "        test_path,\n",
        "        image_size=(IMG_SIZE[0], IMG_SIZE[1]),\n",
        "        batch_size=batch_size,\n",
        "\n",
        "          # only data, no labels\n",
        "        #shuffle=False\n",
        "        )\n",
        "for data in test_generator:\n",
        "    X_test.extend(data[0].numpy())\n",
        "    y_test.extend(data[1].numpy())\n",
        "X_test = np.array(X_test)\n",
        "y_test = np.array(y_test)"
      ]
    },
    {
      "cell_type": "code",
      "execution_count": 38,
      "metadata": {
        "id": "peCIJs3KmT5a",
        "colab": {
          "base_uri": "https://localhost:8080/"
        },
        "outputId": "f8d5efda-1b6e-40cc-8dbe-ba44b981bdf6"
      },
      "outputs": [
        {
          "output_type": "stream",
          "name": "stdout",
          "text": [
            "33/33 [==============================] - 4s 127ms/step\n"
          ]
        }
      ],
      "source": [
        "y_test_pred_prob = model.predict(X_test)\n",
        "y_test_pred = [np.argmax(i) for i in y_test_pred_prob]"
      ]
    },
    {
      "cell_type": "code",
      "execution_count": 39,
      "metadata": {
        "id": "an7a0Ymplmh5",
        "colab": {
          "base_uri": "https://localhost:8080/"
        },
        "outputId": "126d7fa4-b83a-4342-e16f-42d4217fdc4b"
      },
      "outputs": [
        {
          "output_type": "execute_result",
          "data": {
            "text/plain": [
              "array([0, 1, 2, 3, 4, 5, 6, 7, 8, 9], dtype=int32)"
            ]
          },
          "metadata": {},
          "execution_count": 39
        }
      ],
      "source": [
        "np.unique(y_test)"
      ]
    },
    {
      "cell_type": "code",
      "execution_count": 40,
      "metadata": {
        "id": "AxCwvhHVk-vY",
        "colab": {
          "base_uri": "https://localhost:8080/",
          "height": 367
        },
        "outputId": "e380fdbb-2ba2-40cd-9dd5-2ddc8c3ab7b8"
      },
      "outputs": [
        {
          "output_type": "display_data",
          "data": {
            "text/plain": [
              "<Figure size 2500x700 with 2 Axes>"
            ],
            "image/png": "[encoded data removed]"
          },
          "metadata": {}
        }
      ],
      "source": [
        "plt.figure(figsize=(25,7))\n",
        "sb.heatmap(tf.math.confusion_matrix(labels=y_test,predictions=y_test_pred),annot=True,fmt='.1f', cmap='hot_r')\n",
        "plt.xlabel('Predicted Values')\n",
        "plt.ylabel('Actual Values')\n",
        "plt.title('Confusion Matrix')\n",
        "plt.tight_layout()\n",
        "plt.show()"
      ]
    },
    {
      "cell_type": "code",
      "execution_count": 41,
      "metadata": {
        "id": "LFm0u6zSmaGj",
        "colab": {
          "base_uri": "https://localhost:8080/"
        },
        "outputId": "f06b071e-516c-48a8-867c-e41a82140c37"
      },
      "outputs": [
        {
          "output_type": "stream",
          "name": "stdout",
          "text": [
            "Classification Report for Test\n",
            "              precision    recall  f1-score   support\n",
            "\n",
            "           0       0.99      0.66      0.79       100\n",
            "           1       0.85      0.47      0.61        70\n",
            "           2       1.00      0.15      0.26       108\n",
            "           3       0.96      0.26      0.41       100\n",
            "           4       0.49      0.37      0.42        97\n",
            "           5       1.00      0.14      0.25       127\n",
            "           6       0.83      0.07      0.13        69\n",
            "           7       1.00      0.42      0.59       100\n",
            "           8       0.81      0.16      0.27       128\n",
            "           9       0.21      1.00      0.34       152\n",
            "\n",
            "    accuracy                           0.39      1051\n",
            "   macro avg       0.81      0.37      0.41      1051\n",
            "weighted avg       0.79      0.39      0.40      1051\n",
            "\n"
          ]
        }
      ],
      "source": [
        "print(\"Classification Report for Test\")\n",
        "print(classification_report(y_test, y_test_pred))"
      ]
    },
    {
      "cell_type": "code",
      "execution_count": 42,
      "metadata": {
        "id": "LGL2Ta5xmf5r",
        "colab": {
          "base_uri": "https://localhost:8080/",
          "height": 817
        },
        "outputId": "dca00f3a-128c-4eea-871b-abdaf245f4e1"
      },
      "outputs": [
        {
          "output_type": "display_data",
          "data": {
            "text/html": [
              "<html>\n",
              "<head><meta charset=\"utf-8\" /></head>\n",
              "<body>\n",
              "    <div>            <script src=\"https://cdnjs.cloudflare.com/ajax/libs/mathjax/2.7.5/MathJax.js?config=TeX-AMS-MML_SVG\"></script><script type=\"text/javascript\">if (window.MathJax && window.MathJax.Hub && window.MathJax.Hub.Config) {window.MathJax.Hub.Config({SVG: {font: \"STIX-Web\"}});}</script>                <script type=\"text/javascript\">window.PlotlyConfig = {MathJaxConfig: 'local'};</script>\n",
              "        <script src=\"https://cdn.plot.ly/plotly-2.18.2.min.js\"></script>                <div id=\"d260eef5-35e4-4fdd-84b6-86be258cd1f3\" class=\"plotly-graph-div\" style=\"height:800px; width:900px;\"></div>            <script type=\"text/javascript\">                                    window.PLOTLYENV=window.PLOTLYENV || {};                                    if (document.getElementById(\"d260eef5-35e4-4fdd-84b6-86be258cd1f3\")) {                    Plotly.newPlot(                        \"d260eef5-35e4-4fdd-84b6-86be258cd1f3\",                        [{\"mode\":\"lines\",\"name\":\"01 ChiangMai60 (AUC=0.96)\",\"x\":[0.0,0.0,0.0,0.0,0.0,0.0010515247108307045,0.0010515247108307045,0.002103049421661409,0.002103049421661409,0.0031545741324921135,0.0031545741324921135,0.004206098843322818,0.004206098843322818,0.005257623554153523,0.005257623554153523,0.008412197686645636,0.008412197686645636,0.010515247108307046,0.010515247108307046,0.016824395373291272,0.016824395373291272,0.017875920084121977,0.017875920084121977,0.019978969505783387,0.019978969505783387,0.022082018927444796,0.022082018927444796,0.023133543638275498,0.023133543638275498,0.0473186119873817,0.0473186119873817,0.050473186119873815,0.050473186119873815,0.07045215562565721,0.07045215562565721,0.07570977917981073,0.07570977917981073,0.0946372239747634,0.0946372239747634,0.10725552050473186,0.10725552050473186,0.1619348054679285,0.1619348054679285,0.21976866456361724,0.21976866456361724,0.22187171398527866,0.22187171398527866,0.23974763406940064,0.23974763406940064,0.3186119873817035,0.3186119873817035,0.3217665615141956,0.3217665615141956,0.3333333333333333,0.3333333333333333,0.33543638275499477,0.33543638275499477,0.38065194532071506,0.38065194532071506,0.5499474237644585,0.5499474237644585,0.655099894847529,0.655099894847529,0.982124079915878,1.0],\"y\":[0.0,0.01,0.14,0.16,0.62,0.62,0.66,0.66,0.68,0.68,0.7,0.7,0.72,0.72,0.73,0.73,0.74,0.74,0.75,0.75,0.76,0.76,0.8,0.8,0.81,0.81,0.82,0.82,0.83,0.83,0.84,0.84,0.85,0.85,0.86,0.86,0.87,0.87,0.88,0.88,0.89,0.89,0.9,0.9,0.91,0.91,0.92,0.92,0.93,0.93,0.94,0.94,0.95,0.95,0.96,0.96,0.97,0.97,0.98,0.98,0.99,0.99,1.0,1.0,1.0],\"type\":\"scatter\"},{\"mode\":\"lines\",\"name\":\"02 RedKing (AUC=0.90)\",\"x\":[0.0,0.0,0.0,0.0010193679918450561,0.0010193679918450561,0.0030581039755351682,0.0030581039755351682,0.004077471967380225,0.004077471967380225,0.0061162079510703364,0.0061162079510703364,0.009174311926605505,0.009174311926605505,0.011213047910295617,0.011213047910295617,0.013251783893985729,0.013251783893985729,0.022426095820591234,0.022426095820591234,0.027522935779816515,0.027522935779816515,0.02854230377166157,0.02854230377166157,0.03363914373088685,0.03363914373088685,0.04281345565749235,0.04281345565749235,0.053007135575942915,0.053007135575942915,0.0764525993883792,0.0764525993883792,0.08053007135575943,0.08053007135575943,0.08766564729867482,0.08766564729867482,0.09480122324159021,0.09480122324159021,0.09683995922528033,0.09683995922528033,0.09785932721712538,0.09785932721712538,0.11518858307849134,0.11518858307849134,0.15392456676860347,0.15392456676860347,0.16615698267074414,0.16615698267074414,0.1946992864424057,0.1946992864424057,0.24770642201834864,0.24770642201834864,0.3119266055045872,0.3119266055045872,0.3292558613659531,0.3292558613659531,0.37003058103975534,0.37003058103975534,0.39755351681957185,0.39755351681957185,0.43730886850152906,0.43730886850152906,0.8053007135575942,0.8053007135575942,0.8195718654434251,0.8195718654434251,0.8287461773700305,0.8287461773700305,0.8664627930682977,0.8664627930682977,1.0],\"y\":[0.0,0.014285714285714285,0.34285714285714286,0.34285714285714286,0.4142857142857143,0.4142857142857143,0.42857142857142855,0.42857142857142855,0.45714285714285713,0.45714285714285713,0.4714285714285714,0.4714285714285714,0.5428571428571428,0.5428571428571428,0.5857142857142857,0.5857142857142857,0.6,0.6,0.6142857142857143,0.6142857142857143,0.6285714285714286,0.6285714285714286,0.6571428571428571,0.6571428571428571,0.6857142857142857,0.6857142857142857,0.7,0.7,0.7142857142857143,0.7142857142857143,0.7285714285714285,0.7285714285714285,0.7428571428571429,0.7428571428571429,0.7571428571428571,0.7571428571428571,0.7714285714285715,0.7714285714285715,0.7857142857142857,0.7857142857142857,0.8,0.8,0.8142857142857143,0.8142857142857143,0.8285714285714286,0.8285714285714286,0.8428571428571429,0.8428571428571429,0.8571428571428571,0.8571428571428571,0.8714285714285714,0.8714285714285714,0.8857142857142857,0.8857142857142857,0.9,0.9,0.9142857142857143,0.9142857142857143,0.9285714285714286,0.9285714285714286,0.9428571428571428,0.9428571428571428,0.9571428571428572,0.9571428571428572,0.9714285714285714,0.9714285714285714,0.9857142857142858,0.9857142857142858,1.0,1.0],\"type\":\"scatter\"},{\"mode\":\"lines\",\"name\":\"03 WhiteKing (AUC=0.91)\",\"x\":[0.0,0.0,0.0,0.0010604453870625664,0.0010604453870625664,0.003181336161187699,0.003181336161187699,0.0042417815482502655,0.0042417815482502655,0.005302226935312832,0.005302226935312832,0.006362672322375398,0.006362672322375398,0.008483563096500531,0.008483563096500531,0.010604453870625663,0.010604453870625663,0.01166489925768823,0.01166489925768823,0.012725344644750796,0.012725344644750796,0.014846235418875928,0.014846235418875928,0.018027571580063628,0.018027571580063628,0.021208907741251327,0.021208907741251327,0.02863202545068929,0.02863202545068929,0.030752916224814422,0.030752916224814422,0.032873806998939555,0.032873806998939555,0.036055143160127257,0.036055143160127257,0.03711558854718982,0.03711558854718982,0.041357370095440084,0.041357370095440084,0.04772004241781548,0.04772004241781548,0.051961823966065745,0.051961823966065745,0.05408271474019088,0.05408271474019088,0.05938494167550371,0.05938494167550371,0.06256627783669141,0.06256627783669141,0.06786850477200425,0.06786850477200425,0.06998939554612937,0.06998939554612937,0.07317073170731707,0.07317073170731707,0.08059384941675504,0.08059384941675504,0.08377518557794274,0.08377518557794274,0.09968186638388123,0.09968186638388123,0.13467656415694593,0.13467656415694593,0.1420996818663839,0.1420996818663839,0.2067868504772004,0.2067868504772004,0.23223753976670203,0.23223753976670203,0.2863202545068929,0.2863202545068929,0.2948038176033934,0.2948038176033934,0.31601272534464475,0.31601272534464475,0.33191940615058324,0.33191940615058324,0.35737009544008486,0.35737009544008486,0.41993637327677624,0.41993637327677624,0.4432661717921527,0.4432661717921527,0.4485683987274655,0.4485683987274655,0.5068928950159067,0.5068928950159067,0.6659597030752916,0.6659597030752916,0.6829268292682927,0.6829268292682927,0.8250265111346765,0.8250265111346765,0.8568398727465536,0.8568398727465536,0.9416755037115588,0.9416755037115588,1.0],\"y\":[0.0,0.009259259259259259,0.25,0.25,0.4166666666666667,0.4166666666666667,0.49074074074074076,0.49074074074074076,0.5,0.5,0.5185185185185185,0.5185185185185185,0.5462962962962963,0.5462962962962963,0.5648148148148148,0.5648148148148148,0.5740740740740741,0.5740740740740741,0.5833333333333334,0.5833333333333334,0.5925925925925926,0.5925925925925926,0.6111111111111112,0.6111111111111112,0.6203703703703703,0.6203703703703703,0.6388888888888888,0.6388888888888888,0.6481481481481481,0.6481481481481481,0.6574074074074074,0.6574074074074074,0.6666666666666666,0.6666666666666666,0.6851851851851852,0.6851851851851852,0.6944444444444444,0.6944444444444444,0.7129629629629629,0.7129629629629629,0.7222222222222222,0.7222222222222222,0.7314814814814815,0.7314814814814815,0.7407407407407407,0.7407407407407407,0.75,0.75,0.7592592592592593,0.7592592592592593,0.7685185185185185,0.7685185185185185,0.7870370370370371,0.7870370370370371,0.7962962962962963,0.7962962962962963,0.8055555555555556,0.8055555555555556,0.8148148148148148,0.8148148148148148,0.8240740740740741,0.8240740740740741,0.8333333333333334,0.8333333333333334,0.8425925925925926,0.8425925925925926,0.8518518518518519,0.8518518518518519,0.8611111111111112,0.8611111111111112,0.8703703703703703,0.8703703703703703,0.8796296296296297,0.8796296296296297,0.8888888888888888,0.8888888888888888,0.8981481481481481,0.8981481481481481,0.9074074074074074,0.9074074074074074,0.9166666666666666,0.9166666666666666,0.9259259259259259,0.9259259259259259,0.9351851851851852,0.9351851851851852,0.9444444444444444,0.9444444444444444,0.9629629629629629,0.9629629629629629,0.9722222222222222,0.9722222222222222,0.9814814814814815,0.9814814814814815,0.9907407407407407,0.9907407407407407,1.0,1.0],\"type\":\"scatter\"},{\"mode\":\"lines\",\"name\":\"04 BlackOodTurkey (AUC=0.79)\",\"x\":[0.0,0.0,0.0,0.0010515247108307045,0.0010515247108307045,0.002103049421661409,0.002103049421661409,0.0031545741324921135,0.0031545741324921135,0.007360672975814932,0.007360672975814932,0.014721345951629864,0.014721345951629864,0.015772870662460567,0.015772870662460567,0.025236593059936908,0.025236593059936908,0.027339642481598318,0.027339642481598318,0.035751840168243953,0.035751840168243953,0.0452155625657203,0.0452155625657203,0.046267087276550996,0.046267087276550996,0.0473186119873817,0.0473186119873817,0.06624605678233439,0.06624605678233439,0.07045215562565721,0.07045215562565721,0.07255520504731862,0.07255520504731862,0.07886435331230283,0.07886435331230283,0.08201892744479496,0.08201892744479496,0.08307045215562565,0.08307045215562565,0.09779179810725552,0.09779179810725552,0.10094637223974763,0.10094637223974763,0.11987381703470032,0.11987381703470032,0.12407991587802314,0.12407991587802314,0.1377497371188223,0.1377497371188223,0.15247108307045215,0.15247108307045215,0.15352260778128285,0.15352260778128285,0.1661409043112513,0.1661409043112513,0.17560462670872765,0.17560462670872765,0.19978969505783387,0.19978969505783387,0.21451104100946372,0.21451104100946372,0.21976866456361724,0.21976866456361724,0.24500525762355416,0.24500525762355416,0.24710830704521555,0.24710830704521555,0.2618296529968454,0.2618296529968454,0.26919032597266035,0.26919032597266035,0.2902208201892745,0.2902208201892745,0.29337539432176657,0.29337539432176657,0.29547844374342797,0.29547844374342797,0.29652996845425866,0.29652996845425866,0.3049421661409043,0.3049421661409043,0.31335436382754994,0.31335436382754994,0.3196635120925342,0.3196635120925342,0.352260778128286,0.352260778128286,0.35751840168243953,0.35751840168243953,0.36908517350157727,0.36908517350157727,0.3753943217665615,0.3753943217665615,0.38065194532071506,0.38065194532071506,0.3932702418506835,0.3932702418506835,0.4353312302839117,0.4353312302839117,0.4479495268138801,0.4479495268138801,0.45215562565720296,0.45215562565720296,0.4773922187171398,0.4773922187171398,0.48475289169295477,0.48475289169295477,0.5331230283911672,0.5331230283911672,0.5415352260778128,0.5415352260778128,0.5488958990536278,0.5488958990536278,0.5667718191377498,0.5667718191377498,0.5993690851735016,0.5993690851735016,0.6288117770767613,0.6288117770767613,0.6898002103049422,0.6898002103049422,0.7055730809674028,0.7055730809674028,0.7276550998948476,0.7276550998948476,0.7833859095688749,0.7833859095688749,0.7907465825446898,0.7907465825446898,0.7970557308096741,0.7970557308096741,0.8222923238696109,0.8222923238696109,0.861198738170347,0.861198738170347,1.0],\"y\":[0.0,0.01,0.26,0.26,0.27,0.27,0.28,0.28,0.31,0.31,0.32,0.32,0.35,0.35,0.36,0.36,0.37,0.37,0.38,0.38,0.39,0.39,0.4,0.4,0.41,0.41,0.42,0.42,0.43,0.43,0.44,0.44,0.45,0.45,0.46,0.46,0.47,0.47,0.49,0.49,0.5,0.5,0.51,0.51,0.53,0.53,0.54,0.54,0.55,0.55,0.56,0.56,0.57,0.57,0.58,0.58,0.59,0.59,0.6,0.6,0.61,0.61,0.62,0.62,0.63,0.63,0.65,0.65,0.66,0.66,0.67,0.67,0.68,0.68,0.69,0.69,0.7,0.7,0.71,0.71,0.72,0.72,0.73,0.73,0.74,0.74,0.75,0.75,0.76,0.76,0.78,0.78,0.79,0.79,0.8,0.8,0.81,0.81,0.82,0.82,0.83,0.83,0.84,0.84,0.85,0.85,0.86,0.86,0.87,0.87,0.88,0.88,0.89,0.89,0.9,0.9,0.91,0.91,0.92,0.92,0.93,0.93,0.94,0.94,0.95,0.95,0.96,0.96,0.97,0.97,0.98,0.98,0.99,0.99,1.0,1.0],\"type\":\"scatter\"},{\"mode\":\"lines\",\"name\":\"05 TaiwanStraberry (AUC=0.81)\",\"x\":[0.0,0.0,0.0,0.0010482180293501049,0.0010482180293501049,0.0020964360587002098,0.0020964360587002098,0.0031446540880503146,0.0031446540880503146,0.0041928721174004195,0.0041928721174004195,0.006289308176100629,0.006289308176100629,0.007337526205450734,0.007337526205450734,0.008385744234800839,0.008385744234800839,0.011530398322851153,0.011530398322851153,0.015723270440251572,0.015723270440251572,0.01781970649895178,0.01781970649895178,0.020964360587002098,0.020964360587002098,0.023060796645702306,0.023060796645702306,0.025157232704402517,0.025157232704402517,0.02620545073375262,0.02620545073375262,0.027253668763102725,0.027253668763102725,0.03878406708595388,0.03878406708595388,0.041928721174004195,0.041928721174004195,0.04507337526205451,0.04507337526205451,0.04716981132075472,0.04716981132075472,0.049266247379454925,0.049266247379454925,0.05241090146750524,0.05241090146750524,0.05345911949685535,0.05345911949685535,0.06079664570230608,0.06079664570230608,0.0639412997903564,0.0639412997903564,0.08280922431865828,0.08280922431865828,0.08385744234800839,0.08385744234800839,0.09014675052410902,0.09014675052410902,0.09433962264150944,0.09433962264150944,0.10587002096436059,0.10587002096436059,0.10796645702306079,0.10796645702306079,0.11320754716981132,0.11320754716981132,0.12368972746331237,0.12368972746331237,0.12473794549266247,0.12473794549266247,0.12683438155136267,0.12683438155136267,0.1331236897274633,0.1331236897274633,0.14150943396226415,0.14150943396226415,0.14570230607966456,0.14570230607966456,0.16457023060796647,0.16457023060796647,0.1708595387840671,0.1708595387840671,0.18658280922431866,0.18658280922431866,0.19077568134171907,0.19077568134171907,0.20440251572327045,0.20440251572327045,0.20754716981132076,0.20754716981132076,0.20964360587002095,0.20964360587002095,0.21069182389937108,0.21069182389937108,0.2148846960167715,0.2148846960167715,0.22012578616352202,0.22012578616352202,0.22327044025157233,0.22327044025157233,0.23270440251572327,0.23270440251572327,0.24528301886792453,0.24528301886792453,0.2631027253668763,0.2631027253668763,0.26519916142557654,0.26519916142557654,0.2693920335429769,0.2693920335429769,0.2809224318658281,0.2809224318658281,0.2966457023060797,0.2966457023060797,0.3417190775681342,0.3417190775681342,0.37631027253668764,0.37631027253668764,0.37945492662473795,0.37945492662473795,0.4129979035639413,0.4129979035639413,0.47064989517819705,0.47064989517819705,0.4727463312368973,0.4727463312368973,0.5010482180293501,0.5010482180293501,0.5167714884696016,0.5167714884696016,0.5262054507337526,0.5262054507337526,0.6079664570230608,0.6079664570230608,0.6740041928721174,0.6740041928721174,0.7232704402515723,0.7232704402515723,0.7872117400419287,0.7872117400419287,0.8134171907756813,0.8134171907756813,0.8354297693920335,0.8354297693920335,0.8731656184486373,0.8731656184486373,0.8784067085953878,0.8784067085953878,0.9203354297693921,0.9203354297693921,1.0],\"y\":[0.0,0.010309278350515464,0.09278350515463918,0.09278350515463918,0.14432989690721648,0.14432989690721648,0.15463917525773196,0.15463917525773196,0.16494845360824742,0.16494845360824742,0.17525773195876287,0.17525773195876287,0.21649484536082475,0.21649484536082475,0.24742268041237114,0.24742268041237114,0.25773195876288657,0.25773195876288657,0.26804123711340205,0.26804123711340205,0.27835051546391754,0.27835051546391754,0.28865979381443296,0.28865979381443296,0.32989690721649484,0.32989690721649484,0.3402061855670103,0.3402061855670103,0.35051546391752575,0.35051546391752575,0.36082474226804123,0.36082474226804123,0.3711340206185567,0.3711340206185567,0.3917525773195876,0.3917525773195876,0.4020618556701031,0.4020618556701031,0.41237113402061853,0.41237113402061853,0.422680412371134,0.422680412371134,0.4329896907216495,0.4329896907216495,0.44329896907216493,0.44329896907216493,0.4536082474226804,0.4536082474226804,0.4639175257731959,0.4639175257731959,0.4742268041237113,0.4742268041237113,0.4845360824742268,0.4845360824742268,0.4948453608247423,0.4948453608247423,0.5051546391752577,0.5051546391752577,0.5154639175257731,0.5154639175257731,0.5257731958762887,0.5257731958762887,0.5360824742268041,0.5360824742268041,0.5463917525773195,0.5463917525773195,0.5567010309278351,0.5567010309278351,0.5670103092783505,0.5670103092783505,0.5773195876288659,0.5773195876288659,0.5876288659793815,0.5876288659793815,0.5979381443298969,0.5979381443298969,0.6082474226804123,0.6082474226804123,0.6185567010309279,0.6185567010309279,0.6288659793814433,0.6288659793814433,0.6391752577319587,0.6391752577319587,0.6494845360824743,0.6494845360824743,0.6597938144329897,0.6597938144329897,0.6701030927835051,0.6701030927835051,0.6804123711340206,0.6804123711340206,0.6907216494845361,0.6907216494845361,0.7010309278350515,0.7010309278350515,0.711340206185567,0.711340206185567,0.7216494845360825,0.7216494845360825,0.7422680412371134,0.7422680412371134,0.7525773195876289,0.7525773195876289,0.7628865979381443,0.7628865979381443,0.7731958762886598,0.7731958762886598,0.7835051546391752,0.7835051546391752,0.7938144329896907,0.7938144329896907,0.8041237113402062,0.8041237113402062,0.8144329896907216,0.8144329896907216,0.8247422680412371,0.8247422680412371,0.8350515463917526,0.8350515463917526,0.845360824742268,0.845360824742268,0.865979381443299,0.865979381443299,0.8762886597938144,0.8762886597938144,0.8865979381443299,0.8865979381443299,0.8969072164948454,0.8969072164948454,0.9072164948453608,0.9072164948453608,0.9175257731958762,0.9175257731958762,0.9278350515463918,0.9278350515463918,0.9381443298969072,0.9381443298969072,0.9484536082474226,0.9484536082474226,0.9587628865979382,0.9587628865979382,0.9690721649484536,0.9690721649484536,0.979381443298969,0.979381443298969,0.9896907216494846,0.9896907216494846,1.0,1.0],\"type\":\"scatter\"},{\"mode\":\"lines\",\"name\":\"06 BlackAustralia (AUC=0.82)\",\"x\":[0.0,0.0,0.0,0.0010822510822510823,0.0010822510822510823,0.004329004329004329,0.004329004329004329,0.008658008658008658,0.008658008658008658,0.00974025974025974,0.00974025974025974,0.010822510822510822,0.010822510822510822,0.016233766233766232,0.016233766233766232,0.017316017316017316,0.017316017316017316,0.01948051948051948,0.01948051948051948,0.020562770562770564,0.020562770562770564,0.022727272727272728,0.022727272727272728,0.02813852813852814,0.02813852813852814,0.02922077922077922,0.02922077922077922,0.03571428571428571,0.03571428571428571,0.03896103896103896,0.03896103896103896,0.04329004329004329,0.04329004329004329,0.050865800865800864,0.050865800865800864,0.05303030303030303,0.05303030303030303,0.06060606060606061,0.06060606060606061,0.06493506493506493,0.06493506493506493,0.06601731601731602,0.06601731601731602,0.08116883116883117,0.08116883116883117,0.08333333333333333,0.08333333333333333,0.08982683982683982,0.08982683982683982,0.09307359307359307,0.09307359307359307,0.09415584415584416,0.09415584415584416,0.10173160173160173,0.10173160173160173,0.10606060606060606,0.10606060606060606,0.10714285714285714,0.10714285714285714,0.11363636363636363,0.11363636363636363,0.11688311688311688,0.11688311688311688,0.11796536796536797,0.11796536796536797,0.12229437229437229,0.12229437229437229,0.12554112554112554,0.12554112554112554,0.16883116883116883,0.16883116883116883,0.170995670995671,0.170995670995671,0.18073593073593072,0.18073593073593072,0.1937229437229437,0.1937229437229437,0.19805194805194806,0.19805194805194806,0.2196969696969697,0.2196969696969697,0.22186147186147187,0.22186147186147187,0.22727272727272727,0.22727272727272727,0.24242424242424243,0.24242424242424243,0.24567099567099568,0.24567099567099568,0.2532467532467532,0.2532467532467532,0.2727272727272727,0.2727272727272727,0.275974025974026,0.275974025974026,0.27705627705627706,0.27705627705627706,0.288961038961039,0.288961038961039,0.29004329004329005,0.29004329004329005,0.2911255411255411,0.2911255411255411,0.30735930735930733,0.30735930735930733,0.3300865800865801,0.3300865800865801,0.33116883116883117,0.33116883116883117,0.3430735930735931,0.3430735930735931,0.36363636363636365,0.36363636363636365,0.37012987012987014,0.37012987012987014,0.37337662337662336,0.37337662337662336,0.41774891774891776,0.41774891774891776,0.4274891774891775,0.4274891774891775,0.4318181818181818,0.4318181818181818,0.4675324675324675,0.4675324675324675,0.487012987012987,0.487012987012987,0.5205627705627706,0.5205627705627706,0.5335497835497836,0.5335497835497836,0.5930735930735931,0.5930735930735931,0.6103896103896104,0.6103896103896104,0.6179653679653679,0.6179653679653679,0.6233766233766234,0.6233766233766234,0.645021645021645,0.645021645021645,0.6525974025974026,0.6525974025974026,0.683982683982684,0.683982683982684,0.7142857142857143,0.7142857142857143,0.737012987012987,0.737012987012987,0.7402597402597403,0.7402597402597403,0.7564935064935064,0.7564935064935064,0.7781385281385281,0.7781385281385281,0.814935064935065,0.814935064935065,1.0],\"y\":[0.0,0.007874015748031496,0.1889763779527559,0.1889763779527559,0.2283464566929134,0.2283464566929134,0.2677165354330709,0.2677165354330709,0.2755905511811024,0.2755905511811024,0.28346456692913385,0.28346456692913385,0.3228346456692913,0.3228346456692913,0.3464566929133858,0.3464566929133858,0.3543307086614173,0.3543307086614173,0.3779527559055118,0.3779527559055118,0.3858267716535433,0.3858267716535433,0.4015748031496063,0.4015748031496063,0.4094488188976378,0.4094488188976378,0.4251968503937008,0.4251968503937008,0.4409448818897638,0.4409448818897638,0.44881889763779526,0.44881889763779526,0.4566929133858268,0.4566929133858268,0.4645669291338583,0.4645669291338583,0.48031496062992124,0.48031496062992124,0.4881889763779528,0.4881889763779528,0.49606299212598426,0.49606299212598426,0.5039370078740157,0.5039370078740157,0.5118110236220472,0.5118110236220472,0.5196850393700787,0.5196850393700787,0.5275590551181102,0.5275590551181102,0.5433070866141733,0.5433070866141733,0.5511811023622047,0.5511811023622047,0.5590551181102362,0.5590551181102362,0.5669291338582677,0.5669291338582677,0.5748031496062992,0.5748031496062992,0.5826771653543307,0.5826771653543307,0.5905511811023622,0.5905511811023622,0.6141732283464567,0.6141732283464567,0.6220472440944882,0.6220472440944882,0.6299212598425197,0.6299212598425197,0.6377952755905512,0.6377952755905512,0.6456692913385826,0.6456692913385826,0.6614173228346457,0.6614173228346457,0.6692913385826772,0.6692913385826772,0.6771653543307087,0.6771653543307087,0.6850393700787402,0.6850393700787402,0.6929133858267716,0.6929133858267716,0.7007874015748031,0.7007874015748031,0.7086614173228346,0.7086614173228346,0.7165354330708661,0.7165354330708661,0.7244094488188977,0.7244094488188977,0.7322834645669292,0.7322834645669292,0.7401574803149606,0.7401574803149606,0.7480314960629921,0.7480314960629921,0.7559055118110236,0.7559055118110236,0.7637795275590551,0.7637795275590551,0.7716535433070866,0.7716535433070866,0.7795275590551181,0.7795275590551181,0.7874015748031497,0.7874015748031497,0.7952755905511811,0.7952755905511811,0.8031496062992126,0.8031496062992126,0.8110236220472441,0.8110236220472441,0.8188976377952756,0.8188976377952756,0.8267716535433071,0.8267716535433071,0.8346456692913385,0.8346456692913385,0.8503937007874016,0.8503937007874016,0.8582677165354331,0.8582677165354331,0.8661417322834646,0.8661417322834646,0.8740157480314961,0.8740157480314961,0.8818897637795275,0.8818897637795275,0.8976377952755905,0.8976377952755905,0.905511811023622,0.905511811023622,0.9133858267716536,0.9133858267716536,0.9212598425196851,0.9212598425196851,0.9291338582677166,0.9291338582677166,0.937007874015748,0.937007874015748,0.9448818897637795,0.9448818897637795,0.952755905511811,0.952755905511811,0.9606299212598425,0.9606299212598425,0.968503937007874,0.968503937007874,0.9763779527559056,0.9763779527559056,0.984251968503937,0.984251968503937,0.9921259842519685,0.9921259842519685,1.0,1.0],\"type\":\"scatter\"},{\"mode\":\"lines\",\"name\":\"07 Buriram60 (AUC=0.76)\",\"x\":[0.0,0.0,0.0,0.002036659877800407,0.002036659877800407,0.004073319755600814,0.004073319755600814,0.007128309572301426,0.007128309572301426,0.008146639511201629,0.008146639511201629,0.009164969450101833,0.009164969450101833,0.013238289205702648,0.013238289205702648,0.014256619144602852,0.014256619144602852,0.015274949083503055,0.015274949083503055,0.03360488798370672,0.03360488798370672,0.03665987780040733,0.03665987780040733,0.048879837067209775,0.048879837067209775,0.04989816700610998,0.04989816700610998,0.054989816700611,0.054989816700611,0.05804480651731161,0.05804480651731161,0.059063136456211814,0.059063136456211814,0.06822810590631365,0.06822810590631365,0.07128309572301425,0.07128309572301425,0.07942973523421588,0.07942973523421588,0.08044806517311609,0.08044806517311609,0.09368635437881874,0.09368635437881874,0.109979633401222,0.109979633401222,0.12627291242362526,0.12627291242362526,0.1354378818737271,0.1354378818737271,0.1415478615071283,0.1415478615071283,0.15071283095723015,0.15071283095723015,0.1670061099796334,0.1670061099796334,0.1710794297352342,0.1710794297352342,0.17311608961303462,0.17311608961303462,0.18839103869653767,0.18839103869653767,0.19959266802443992,0.19959266802443992,0.2209775967413442,0.2209775967413442,0.2219959266802444,0.2219959266802444,0.23014256619144602,0.23014256619144602,0.2515274949083503,0.2515274949083503,0.2668024439918534,0.2668024439918534,0.2759674134419552,0.2759674134419552,0.3136456211812627,0.3136456211812627,0.31568228105906315,0.31568228105906315,0.3380855397148676,0.3380855397148676,0.34521384928716903,0.34521384928716903,0.38085539714867617,0.38085539714867617,0.3818737270875764,0.3818737270875764,0.3890020366598778,0.3890020366598778,0.4093686354378819,0.4093686354378819,0.43686354378818737,0.43686354378818737,0.4511201629327902,0.4511201629327902,0.45824847250509165,0.45824847250509165,0.48981670061099797,0.48981670061099797,0.4938900203665988,0.4938900203665988,0.5010183299389002,0.5010183299389002,0.5417515274949084,0.5417515274949084,0.5539714867617108,0.5539714867617108,0.5610997963340122,0.5610997963340122,0.6120162932790224,0.6120162932790224,0.6486761710794298,0.6486761710794298,0.6507128309572301,0.6507128309572301,0.7270875763747454,0.7270875763747454,0.730142566191446,0.730142566191446,0.8615071283095723,0.8615071283095723,1.0],\"y\":[0.0,0.014492753623188406,0.08695652173913043,0.08695652173913043,0.10144927536231885,0.10144927536231885,0.11594202898550725,0.11594202898550725,0.13043478260869565,0.13043478260869565,0.14492753623188406,0.14492753623188406,0.17391304347826086,0.17391304347826086,0.18840579710144928,0.18840579710144928,0.21739130434782608,0.21739130434782608,0.2318840579710145,0.2318840579710145,0.2463768115942029,0.2463768115942029,0.2608695652173913,0.2608695652173913,0.2753623188405797,0.2753623188405797,0.2898550724637681,0.2898550724637681,0.30434782608695654,0.30434782608695654,0.3188405797101449,0.3188405797101449,0.3333333333333333,0.3333333333333333,0.34782608695652173,0.34782608695652173,0.37681159420289856,0.37681159420289856,0.391304347826087,0.391304347826087,0.4057971014492754,0.4057971014492754,0.42028985507246375,0.42028985507246375,0.43478260869565216,0.43478260869565216,0.4492753623188406,0.4492753623188406,0.463768115942029,0.463768115942029,0.4782608695652174,0.4782608695652174,0.4927536231884058,0.4927536231884058,0.5072463768115942,0.5072463768115942,0.5217391304347826,0.5217391304347826,0.5362318840579711,0.5362318840579711,0.5507246376811594,0.5507246376811594,0.5652173913043478,0.5652173913043478,0.5797101449275363,0.5797101449275363,0.5942028985507246,0.5942028985507246,0.6086956521739131,0.6086956521739131,0.6231884057971014,0.6231884057971014,0.6376811594202898,0.6376811594202898,0.6521739130434783,0.6521739130434783,0.6666666666666666,0.6666666666666666,0.6811594202898551,0.6811594202898551,0.6956521739130435,0.6956521739130435,0.7101449275362319,0.7101449275362319,0.7246376811594203,0.7246376811594203,0.7391304347826086,0.7391304347826086,0.7536231884057971,0.7536231884057971,0.7681159420289855,0.7681159420289855,0.782608695652174,0.782608695652174,0.7971014492753623,0.7971014492753623,0.8115942028985508,0.8115942028985508,0.8260869565217391,0.8260869565217391,0.8405797101449275,0.8405797101449275,0.855072463768116,0.855072463768116,0.8695652173913043,0.8695652173913043,0.8840579710144928,0.8840579710144928,0.8985507246376812,0.8985507246376812,0.9130434782608695,0.9130434782608695,0.927536231884058,0.927536231884058,0.9420289855072463,0.9420289855072463,0.9565217391304348,0.9565217391304348,0.9855072463768116,0.9855072463768116,1.0,1.0],\"type\":\"scatter\"},{\"mode\":\"lines\",\"name\":\"08 Kamphaengsaeng42 (AUC=0.93)\",\"x\":[0.0,0.0,0.0,0.0010515247108307045,0.0010515247108307045,0.0031545741324921135,0.0031545741324921135,0.004206098843322818,0.004206098843322818,0.005257623554153523,0.005257623554153523,0.011566771819137749,0.011566771819137749,0.012618296529968454,0.012618296529968454,0.013669821240799159,0.013669821240799159,0.014721345951629864,0.014721345951629864,0.023133543638275498,0.023133543638275498,0.0452155625657203,0.0452155625657203,0.05152471083070452,0.05152471083070452,0.060988433228180865,0.060988433228180865,0.06519453207150368,0.06519453207150368,0.07570977917981073,0.07570977917981073,0.09253417455310199,0.09253417455310199,0.10199789695057834,0.10199789695057834,0.10935856992639327,0.10935856992639327,0.11251314405888538,0.11251314405888538,0.13144058885383805,0.13144058885383805,0.17770767613038907,0.17770767613038907,0.19873817034700317,0.19873817034700317,0.2891692954784437,0.2891692954784437,0.2902208201892745,0.2902208201892745,0.2996845425867508,0.2996845425867508,0.305993690851735,0.305993690851735,0.38590956887486855,0.38590956887486855,0.3922187171398528,0.3922187171398528,0.416403785488959,0.416403785488959,0.47213459516298634,0.47213459516298634,0.544689800210305,0.544689800210305,0.5467928496319664,0.5467928496319664,0.6677181913774973,0.6677181913774973,0.7949526813880127,0.7949526813880127,0.9800210304942166,1.0],\"y\":[0.0,0.03,0.55,0.55,0.56,0.56,0.59,0.59,0.63,0.63,0.65,0.65,0.67,0.67,0.68,0.68,0.69,0.69,0.72,0.72,0.74,0.74,0.77,0.77,0.78,0.78,0.79,0.79,0.8,0.8,0.81,0.81,0.82,0.82,0.83,0.83,0.84,0.84,0.85,0.85,0.86,0.86,0.87,0.87,0.88,0.88,0.89,0.89,0.9,0.9,0.91,0.91,0.92,0.92,0.93,0.93,0.94,0.94,0.95,0.95,0.96,0.96,0.97,0.97,0.98,0.98,0.99,0.99,1.0,1.0,1.0],\"type\":\"scatter\"},{\"mode\":\"lines\",\"name\":\"09 TaiwanMeacho (AUC=0.82)\",\"x\":[0.0,0.0,0.0,0.0010834236186348862,0.0010834236186348862,0.0021668472372697724,0.0021668472372697724,0.0032502708559046588,0.0032502708559046588,0.004333694474539545,0.004333694474539545,0.005417118093174431,0.005417118093174431,0.0065005417118093175,0.0065005417118093175,0.007583965330444204,0.007583965330444204,0.00866738894907909,0.00866738894907909,0.011917659804983749,0.011917659804983749,0.015167930660888408,0.015167930660888408,0.016251354279523293,0.016251354279523293,0.01733477789815818,0.01733477789815818,0.018418201516793065,0.018418201516793065,0.01950162513542795,0.01950162513542795,0.024918743228602384,0.024918743228602384,0.02600216684723727,0.02600216684723727,0.027085590465872156,0.027085590465872156,0.028169014084507043,0.028169014084507043,0.02925243770314193,0.02925243770314193,0.03358613217768147,0.03358613217768147,0.03683640303358613,0.03683640303358613,0.03791982665222102,0.03791982665222102,0.0390032502708559,0.0390032502708559,0.04008667388949079,0.04008667388949079,0.041170097508125676,0.041170097508125676,0.04225352112676056,0.04225352112676056,0.04333694474539545,0.04333694474539545,0.047670639219934995,0.047670639219934995,0.04875406283856988,0.04875406283856988,0.05200433369447454,0.05200433369447454,0.05308775731310943,0.05308775731310943,0.05417118093174431,0.05417118093174431,0.05742145178764897,0.05742145178764897,0.059588299024918745,0.059588299024918745,0.06067172264355363,0.06067172264355363,0.0628385698808234,0.0628385698808234,0.06392199349945829,0.06392199349945829,0.07692307692307693,0.07692307692307693,0.08125677139761647,0.08125677139761647,0.09317443120260022,0.09317443120260022,0.1094257854821235,0.1094257854821235,0.12459371614301191,0.12459371614301191,0.12892741061755147,0.12892741061755147,0.13651137594799567,0.13651137594799567,0.14409534127843987,0.14409534127843987,0.1495124593716143,0.1495124593716143,0.16034669555796316,0.16034669555796316,0.1744312026002167,0.1744312026002167,0.18634886240520043,0.18634886240520043,0.19718309859154928,0.19718309859154928,0.20043336944745396,0.20043336944745396,0.21776814734561215,0.21776814734561215,0.2199349945828819,0.2199349945828819,0.22426868905742145,0.22426868905742145,0.23943661971830985,0.23943661971830985,0.24160346695557963,0.24160346695557963,0.2502708559046587,0.2502708559046587,0.26327193932827736,0.26327193932827736,0.27627302275189597,0.27627302275189597,0.29360780065005415,0.29360780065005415,0.30227518959913324,0.30227518959913324,0.3087757313109426,0.3087757313109426,0.3228602383531961,0.3228602383531961,0.3250270855904659,0.3250270855904659,0.3282773564463705,0.3282773564463705,0.3466955579631636,0.3466955579631636,0.3542795232936078,0.3542795232936078,0.3607800650054171,0.3607800650054171,0.38894907908992415,0.38894907908992415,0.4160346695557963,0.4160346695557963,0.4268689057421452,0.4268689057421452,0.4734561213434453,0.4734561213434453,0.49404117009750814,0.49404117009750814,0.5081256771397616,0.5081256771397616,0.5113759479956663,0.5113759479956663,0.5222101841820151,0.5222101841820151,0.5276273022751896,0.5276273022751896,0.5330444203683641,0.5330444203683641,0.5460455037919827,0.5460455037919827,0.6013001083423619,0.6013001083423619,0.6088840736728061,0.6088840736728061,0.6413867822318526,0.6413867822318526,0.6695557963163596,0.6695557963163596,0.6771397616468039,0.6771397616468039,0.6814734561213435,0.6814734561213435,0.6977248104008668,0.6977248104008668,0.7053087757313109,0.7053087757313109,0.7248104008667389,0.7248104008667389,0.8017334777898159,0.8017334777898159,0.8699891657638137,0.8699891657638137,0.8764897074756229,0.8764897074756229,0.9674972914409534,1.0],\"y\":[0.0,0.0078125,0.0390625,0.0390625,0.1328125,0.1328125,0.140625,0.140625,0.1484375,0.1484375,0.1796875,0.1796875,0.203125,0.203125,0.25,0.25,0.2578125,0.2578125,0.265625,0.265625,0.2734375,0.2734375,0.28125,0.28125,0.3125,0.3125,0.3203125,0.3203125,0.328125,0.328125,0.3359375,0.3359375,0.3515625,0.3515625,0.359375,0.359375,0.375,0.375,0.3828125,0.3828125,0.390625,0.390625,0.40625,0.40625,0.421875,0.421875,0.4296875,0.4296875,0.4375,0.4375,0.4453125,0.4453125,0.453125,0.453125,0.4609375,0.4609375,0.46875,0.46875,0.484375,0.484375,0.4921875,0.4921875,0.5,0.5,0.515625,0.515625,0.5234375,0.5234375,0.53125,0.53125,0.546875,0.546875,0.5546875,0.5546875,0.5625,0.5625,0.5703125,0.5703125,0.578125,0.578125,0.5859375,0.5859375,0.59375,0.59375,0.6015625,0.6015625,0.6171875,0.6171875,0.625,0.625,0.6328125,0.6328125,0.640625,0.640625,0.6484375,0.6484375,0.65625,0.65625,0.6640625,0.6640625,0.671875,0.671875,0.6796875,0.6796875,0.6875,0.6875,0.6953125,0.6953125,0.703125,0.703125,0.7109375,0.7109375,0.71875,0.71875,0.7265625,0.7265625,0.734375,0.734375,0.7421875,0.7421875,0.75,0.75,0.7578125,0.7578125,0.765625,0.765625,0.7734375,0.7734375,0.78125,0.78125,0.7890625,0.7890625,0.796875,0.796875,0.8046875,0.8046875,0.8125,0.8125,0.8203125,0.8203125,0.828125,0.828125,0.8359375,0.8359375,0.84375,0.84375,0.8515625,0.8515625,0.859375,0.859375,0.8671875,0.8671875,0.875,0.875,0.8828125,0.8828125,0.890625,0.890625,0.8984375,0.8984375,0.90625,0.90625,0.9140625,0.9140625,0.921875,0.921875,0.9296875,0.9296875,0.9375,0.9375,0.9453125,0.9453125,0.953125,0.953125,0.9609375,0.9609375,0.96875,0.96875,0.9765625,0.9765625,0.984375,0.984375,0.9921875,0.9921875,1.0,1.0,1.0],\"type\":\"scatter\"},{\"mode\":\"lines\",\"name\":\"10 ChiangMaiBuriram60 (AUC=0.84)\",\"x\":[0.0,0.06117908787541713,0.08231368186874305,0.08898776418242492,0.09232480533926585,0.10011123470522804,0.10567296996662959,0.11123470522803114,0.11345939933259176,0.11790878754171301,0.12124582869855395,0.12458286985539488,0.12458286985539488,0.12569521690767518,0.13014460511679643,0.13236929922135707,0.13348164627363737,0.135706340378198,0.13681868743047831,0.14126807563959956,0.14238042269187987,0.14238042269187987,0.14349276974416017,0.15239154616240266,0.1546162402669633,0.1557285873192436,0.15795328142380421,0.15795328142380421,0.16240266963292546,0.1668520578420467,0.1668520578420467,0.16796440489432704,0.16796440489432704,0.17018909899888765,0.17018909899888765,0.17686318131256953,0.17686318131256953,0.18020022246941045,0.1835372636262514,0.1835372636262514,0.185761957730812,0.185761957730812,0.18687430478309233,0.19132369299221358,0.19132369299221358,0.1935483870967742,0.1946607341490545,0.1946607341490545,0.19577308120133483,0.20022246941045607,0.20022246941045607,0.21690767519466073,0.21690767519466073,0.22803114571746386,0.22803114571746386,0.2335928809788654,0.23581757508342602,0.23581757508342602,0.25806451612903225,0.25806451612903225,0.26918798665183535,0.26918798665183535,0.271412680756396,0.271412680756396,0.27363737486095663,0.27363737486095663,0.27474972191323693,0.27474972191323693,0.27697441601779754,0.27697441601779754,0.2836484983314794,0.2836484983314794,0.28476084538375973,0.28476084538375973,0.28698553948832034,0.28698553948832034,0.289210233592881,0.289210233592881,0.2914349276974416,0.2914349276974416,0.2925472747497219,0.2925472747497219,0.3136818687430478,0.3136818687430478,0.31590656284760843,0.3192436040044494,0.3192436040044494,0.3259176863181313,0.3259176863181313,0.3270300333704116,0.3270300333704116,0.3337041156840934,0.3337041156840934,0.3359288097886541,0.3359288097886541,0.3615127919911012,0.3615127919911012,0.36373748609566187,0.36373748609566187,0.3692992213570634,0.3692992213570634,0.371523915461624,0.371523915461624,0.3781979977753059,0.3781979977753059,0.3870967741935484,0.3870967741935484,0.3882091212458287,0.3882091212458287,0.39488320355951056,0.39488320355951056,0.40266963292547275,0.40266963292547275,0.40378197997775306,0.40378197997775306,0.407119021134594,0.407119021134594,0.42380422691879865,0.42380422691879865,0.44160177975528364,0.44160177975528364,0.45383759733036705,0.45383759733036705,0.474972191323693,0.474972191323693,0.4872080088987764,0.4872080088987764,0.5294771968854283,0.5294771968854283,0.5483870967741935,0.5483870967741935,0.5506117908787542,0.5506117908787542,0.5628476084538376,0.5628476084538376,0.5639599555061179,0.5639599555061179,0.6418242491657397,0.6418242491657397,1.0],\"y\":[0.0,0.4868421052631579,0.506578947368421,0.5197368421052632,0.5328947368421053,0.5394736842105263,0.5394736842105263,0.5460526315789473,0.5526315789473685,0.5526315789473685,0.5592105263157895,0.5592105263157895,0.5657894736842105,0.5657894736842105,0.5657894736842105,0.5657894736842105,0.5657894736842105,0.5657894736842105,0.5723684210526315,0.5723684210526315,0.5723684210526315,0.5789473684210527,0.5855263157894737,0.5855263157894737,0.5855263157894737,0.5855263157894737,0.5986842105263158,0.6052631578947368,0.6052631578947368,0.6052631578947368,0.6118421052631579,0.6118421052631579,0.618421052631579,0.618421052631579,0.625,0.625,0.631578947368421,0.631578947368421,0.631578947368421,0.6381578947368421,0.6381578947368421,0.6447368421052632,0.6513157894736842,0.6513157894736842,0.6578947368421053,0.6578947368421053,0.6578947368421053,0.6644736842105263,0.6644736842105263,0.6644736842105263,0.6776315789473685,0.6776315789473685,0.6842105263157895,0.6842105263157895,0.6973684210526315,0.6973684210526315,0.6973684210526315,0.7039473684210527,0.7039473684210527,0.7105263157894737,0.7105263157894737,0.7171052631578947,0.7171052631578947,0.7236842105263158,0.7236842105263158,0.7368421052631579,0.7368421052631579,0.756578947368421,0.756578947368421,0.7697368421052632,0.7697368421052632,0.7763157894736842,0.7763157894736842,0.7828947368421053,0.7828947368421053,0.7894736842105263,0.7894736842105263,0.7960526315789473,0.7960526315789473,0.8026315789473685,0.8026315789473685,0.8092105263157895,0.8092105263157895,0.8157894736842105,0.8157894736842105,0.8157894736842105,0.8223684210526315,0.8223684210526315,0.8289473684210527,0.8289473684210527,0.8355263157894737,0.8355263157894737,0.8421052631578947,0.8421052631578947,0.8486842105263158,0.8486842105263158,0.8552631578947368,0.8552631578947368,0.8618421052631579,0.8618421052631579,0.868421052631579,0.868421052631579,0.875,0.875,0.881578947368421,0.881578947368421,0.8881578947368421,0.8881578947368421,0.9013157894736842,0.9013157894736842,0.9078947368421053,0.9078947368421053,0.9144736842105263,0.9144736842105263,0.9210526315789473,0.9210526315789473,0.9276315789473685,0.9276315789473685,0.9342105263157895,0.9342105263157895,0.9407894736842105,0.9407894736842105,0.9473684210526315,0.9473684210526315,0.9539473684210527,0.9539473684210527,0.9605263157894737,0.9605263157894737,0.9671052631578947,0.9671052631578947,0.9736842105263158,0.9736842105263158,0.9802631578947368,0.9802631578947368,0.9868421052631579,0.9868421052631579,0.993421052631579,0.993421052631579,1.0,1.0],\"type\":\"scatter\"}],                        {\"template\":{\"data\":{\"histogram2dcontour\":[{\"type\":\"histogram2dcontour\",\"colorbar\":{\"outlinewidth\":0,\"ticks\":\"\"},\"colorscale\":[[0.0,\"#0d0887\"],[0.1111111111111111,\"#46039f\"],[0.2222222222222222,\"#7201a8\"],[0.3333333333333333,\"#9c179e\"],[0.4444444444444444,\"#bd3786\"],[0.5555555555555556,\"#d8576b\"],[0.6666666666666666,\"#ed7953\"],[0.7777777777777778,\"#fb9f3a\"],[0.8888888888888888,\"#fdca26\"],[1.0,\"#f0f921\"]]}],\"choropleth\":[{\"type\":\"choropleth\",\"colorbar\":{\"outlinewidth\":0,\"ticks\":\"\"}}],\"histogram2d\":[{\"type\":\"histogram2d\",\"colorbar\":{\"outlinewidth\":0,\"ticks\":\"\"},\"colorscale\":[[0.0,\"#0d0887\"],[0.1111111111111111,\"#46039f\"],[0.2222222222222222,\"#7201a8\"],[0.3333333333333333,\"#9c179e\"],[0.4444444444444444,\"#bd3786\"],[0.5555555555555556,\"#d8576b\"],[0.6666666666666666,\"#ed7953\"],[0.7777777777777778,\"#fb9f3a\"],[0.8888888888888888,\"#fdca26\"],[1.0,\"#f0f921\"]]}],\"heatmap\":[{\"type\":\"heatmap\",\"colorbar\":{\"outlinewidth\":0,\"ticks\":\"\"},\"colorscale\":[[0.0,\"#0d0887\"],[0.1111111111111111,\"#46039f\"],[0.2222222222222222,\"#7201a8\"],[0.3333333333333333,\"#9c179e\"],[0.4444444444444444,\"#bd3786\"],[0.5555555555555556,\"#d8576b\"],[0.6666666666666666,\"#ed7953\"],[0.7777777777777778,\"#fb9f3a\"],[0.8888888888888888,\"#fdca26\"],[1.0,\"#f0f921\"]]}],\"heatmapgl\":[{\"type\":\"heatmapgl\",\"colorbar\":{\"outlinewidth\":0,\"ticks\":\"\"},\"colorscale\":[[0.0,\"#0d0887\"],[0.1111111111111111,\"#46039f\"],[0.2222222222222222,\"#7201a8\"],[0.3333333333333333,\"#9c179e\"],[0.4444444444444444,\"#bd3786\"],[0.5555555555555556,\"#d8576b\"],[0.6666666666666666,\"#ed7953\"],[0.7777777777777778,\"#fb9f3a\"],[0.8888888888888888,\"#fdca26\"],[1.0,\"#f0f921\"]]}],\"contourcarpet\":[{\"type\":\"contourcarpet\",\"colorbar\":{\"outlinewidth\":0,\"ticks\":\"\"}}],\"contour\":[{\"type\":\"contour\",\"colorbar\":{\"outlinewidth\":0,\"ticks\":\"\"},\"colorscale\":[[0.0,\"#0d0887\"],[0.1111111111111111,\"#46039f\"],[0.2222222222222222,\"#7201a8\"],[0.3333333333333333,\"#9c179e\"],[0.4444444444444444,\"#bd3786\"],[0.5555555555555556,\"#d8576b\"],[0.6666666666666666,\"#ed7953\"],[0.7777777777777778,\"#fb9f3a\"],[0.8888888888888888,\"#fdca26\"],[1.0,\"#f0f921\"]]}],\"surface\":[{\"type\":\"surface\",\"colorbar\":{\"outlinewidth\":0,\"ticks\":\"\"},\"colorscale\":[[0.0,\"#0d0887\"],[0.1111111111111111,\"#46039f\"],[0.2222222222222222,\"#7201a8\"],[0.3333333333333333,\"#9c179e\"],[0.4444444444444444,\"#bd3786\"],[0.5555555555555556,\"#d8576b\"],[0.6666666666666666,\"#ed7953\"],[0.7777777777777778,\"#fb9f3a\"],[0.8888888888888888,\"#fdca26\"],[1.0,\"#f0f921\"]]}],\"mesh3d\":[{\"type\":\"mesh3d\",\"colorbar\":{\"outlinewidth\":0,\"ticks\":\"\"}}],\"scatter\":[{\"fillpattern\":{\"fillmode\":\"overlay\",\"size\":10,\"solidity\":0.2},\"type\":\"scatter\"}],\"parcoords\":[{\"type\":\"parcoords\",\"line\":{\"colorbar\":{\"outlinewidth\":0,\"ticks\":\"\"}}}],\"scatterpolargl\":[{\"type\":\"scatterpolargl\",\"marker\":{\"colorbar\":{\"outlinewidth\":0,\"ticks\":\"\"}}}],\"bar\":[{\"error_x\":{\"color\":\"#2a3f5f\"},\"error_y\":{\"color\":\"#2a3f5f\"},\"marker\":{\"line\":{\"color\":\"#E5ECF6\",\"width\":0.5},\"pattern\":{\"fillmode\":\"overlay\",\"size\":10,\"solidity\":0.2}},\"type\":\"bar\"}],\"scattergeo\":[{\"type\":\"scattergeo\",\"marker\":{\"colorbar\":{\"outlinewidth\":0,\"ticks\":\"\"}}}],\"scatterpolar\":[{\"type\":\"scatterpolar\",\"marker\":{\"colorbar\":{\"outlinewidth\":0,\"ticks\":\"\"}}}],\"histogram\":[{\"marker\":{\"pattern\":{\"fillmode\":\"overlay\",\"size\":10,\"solidity\":0.2}},\"type\":\"histogram\"}],\"scattergl\":[{\"type\":\"scattergl\",\"marker\":{\"colorbar\":{\"outlinewidth\":0,\"ticks\":\"\"}}}],\"scatter3d\":[{\"type\":\"scatter3d\",\"line\":{\"colorbar\":{\"outlinewidth\":0,\"ticks\":\"\"}},\"marker\":{\"colorbar\":{\"outlinewidth\":0,\"ticks\":\"\"}}}],\"scattermapbox\":[{\"type\":\"scattermapbox\",\"marker\":{\"colorbar\":{\"outlinewidth\":0,\"ticks\":\"\"}}}],\"scatterternary\":[{\"type\":\"scatterternary\",\"marker\":{\"colorbar\":{\"outlinewidth\":0,\"ticks\":\"\"}}}],\"scattercarpet\":[{\"type\":\"scattercarpet\",\"marker\":{\"colorbar\":{\"outlinewidth\":0,\"ticks\":\"\"}}}],\"carpet\":[{\"aaxis\":{\"endlinecolor\":\"#2a3f5f\",\"gridcolor\":\"white\",\"linecolor\":\"white\",\"minorgridcolor\":\"white\",\"startlinecolor\":\"#2a3f5f\"},\"baxis\":{\"endlinecolor\":\"#2a3f5f\",\"gridcolor\":\"white\",\"linecolor\":\"white\",\"minorgridcolor\":\"white\",\"startlinecolor\":\"#2a3f5f\"},\"type\":\"carpet\"}],\"table\":[{\"cells\":{\"fill\":{\"color\":\"#EBF0F8\"},\"line\":{\"color\":\"white\"}},\"header\":{\"fill\":{\"color\":\"#C8D4E3\"},\"line\":{\"color\":\"white\"}},\"type\":\"table\"}],\"barpolar\":[{\"marker\":{\"line\":{\"color\":\"#E5ECF6\",\"width\":0.5},\"pattern\":{\"fillmode\":\"overlay\",\"size\":10,\"solidity\":0.2}},\"type\":\"barpolar\"}],\"pie\":[{\"automargin\":true,\"type\":\"pie\"}]},\"layout\":{\"autotypenumbers\":\"strict\",\"colorway\":[\"#636efa\",\"#EF553B\",\"#00cc96\",\"#ab63fa\",\"#FFA15A\",\"#19d3f3\",\"#FF6692\",\"#B6E880\",\"#FF97FF\",\"#FECB52\"],\"font\":{\"color\":\"#2a3f5f\"},\"hovermode\":\"closest\",\"hoverlabel\":{\"align\":\"left\"},\"paper_bgcolor\":\"white\",\"plot_bgcolor\":\"#E5ECF6\",\"polar\":{\"bgcolor\":\"#E5ECF6\",\"angularaxis\":{\"gridcolor\":\"white\",\"linecolor\":\"white\",\"ticks\":\"\"},\"radialaxis\":{\"gridcolor\":\"white\",\"linecolor\":\"white\",\"ticks\":\"\"}},\"ternary\":{\"bgcolor\":\"#E5ECF6\",\"aaxis\":{\"gridcolor\":\"white\",\"linecolor\":\"white\",\"ticks\":\"\"},\"baxis\":{\"gridcolor\":\"white\",\"linecolor\":\"white\",\"ticks\":\"\"},\"caxis\":{\"gridcolor\":\"white\",\"linecolor\":\"white\",\"ticks\":\"\"}},\"coloraxis\":{\"colorbar\":{\"outlinewidth\":0,\"ticks\":\"\"}},\"colorscale\":{\"sequential\":[[0.0,\"#0d0887\"],[0.1111111111111111,\"#46039f\"],[0.2222222222222222,\"#7201a8\"],[0.3333333333333333,\"#9c179e\"],[0.4444444444444444,\"#bd3786\"],[0.5555555555555556,\"#d8576b\"],[0.6666666666666666,\"#ed7953\"],[0.7777777777777778,\"#fb9f3a\"],[0.8888888888888888,\"#fdca26\"],[1.0,\"#f0f921\"]],\"sequentialminus\":[[0.0,\"#0d0887\"],[0.1111111111111111,\"#46039f\"],[0.2222222222222222,\"#7201a8\"],[0.3333333333333333,\"#9c179e\"],[0.4444444444444444,\"#bd3786\"],[0.5555555555555556,\"#d8576b\"],[0.6666666666666666,\"#ed7953\"],[0.7777777777777778,\"#fb9f3a\"],[0.8888888888888888,\"#fdca26\"],[1.0,\"#f0f921\"]],\"diverging\":[[0,\"#8e0152\"],[0.1,\"#c51b7d\"],[0.2,\"#de77ae\"],[0.3,\"#f1b6da\"],[0.4,\"#fde0ef\"],[0.5,\"#f7f7f7\"],[0.6,\"#e6f5d0\"],[0.7,\"#b8e186\"],[0.8,\"#7fbc41\"],[0.9,\"#4d9221\"],[1,\"#276419\"]]},\"xaxis\":{\"gridcolor\":\"white\",\"linecolor\":\"white\",\"ticks\":\"\",\"title\":{\"standoff\":15},\"zerolinecolor\":\"white\",\"automargin\":true,\"zerolinewidth\":2},\"yaxis\":{\"gridcolor\":\"white\",\"linecolor\":\"white\",\"ticks\":\"\",\"title\":{\"standoff\":15},\"zerolinecolor\":\"white\",\"automargin\":true,\"zerolinewidth\":2},\"scene\":{\"xaxis\":{\"backgroundcolor\":\"#E5ECF6\",\"gridcolor\":\"white\",\"linecolor\":\"white\",\"showbackground\":true,\"ticks\":\"\",\"zerolinecolor\":\"white\",\"gridwidth\":2},\"yaxis\":{\"backgroundcolor\":\"#E5ECF6\",\"gridcolor\":\"white\",\"linecolor\":\"white\",\"showbackground\":true,\"ticks\":\"\",\"zerolinecolor\":\"white\",\"gridwidth\":2},\"zaxis\":{\"backgroundcolor\":\"#E5ECF6\",\"gridcolor\":\"white\",\"linecolor\":\"white\",\"showbackground\":true,\"ticks\":\"\",\"zerolinecolor\":\"white\",\"gridwidth\":2}},\"shapedefaults\":{\"line\":{\"color\":\"#2a3f5f\"}},\"annotationdefaults\":{\"arrowcolor\":\"#2a3f5f\",\"arrowhead\":0,\"arrowwidth\":1},\"geo\":{\"bgcolor\":\"white\",\"landcolor\":\"#E5ECF6\",\"subunitcolor\":\"white\",\"showland\":true,\"showlakes\":true,\"lakecolor\":\"white\"},\"title\":{\"x\":0.05},\"mapbox\":{\"style\":\"light\"}}},\"shapes\":[{\"line\":{\"dash\":\"dash\"},\"type\":\"line\",\"x0\":0,\"x1\":1,\"y0\":0,\"y1\":1}],\"yaxis\":{\"title\":{\"text\":\"True Positive Rate\"},\"scaleanchor\":\"x\",\"scaleratio\":1},\"xaxis\":{\"title\":{\"text\":\"False Positive Rate\"},\"constrain\":\"domain\"},\"title\":{\"text\":\"ROC Curve\"},\"width\":900,\"height\":800},                        {\"responsive\": true}                    ).then(function(){\n",
              "                            \n",
              "var gd = document.getElementById('d260eef5-35e4-4fdd-84b6-86be258cd1f3');\n",
              "var x = new MutationObserver(function (mutations, observer) {{\n",
              "        var display = window.getComputedStyle(gd).display;\n",
              "        if (!display || display === 'none') {{\n",
              "            console.log([gd, 'removed!']);\n",
              "            Plotly.purge(gd);\n",
              "            observer.disconnect();\n",
              "        }}\n",
              "}});\n",
              "\n",
              "// Listen for the removal of the full notebook cells\n",
              "var notebookContainer = gd.closest('#notebook-container');\n",
              "if (notebookContainer) {{\n",
              "    x.observe(notebookContainer, {childList: true});\n",
              "}}\n",
              "\n",
              "// Listen for the clearing of the current output cell\n",
              "var outputEl = gd.closest('.output');\n",
              "if (outputEl) {{\n",
              "    x.observe(outputEl, {childList: true});\n",
              "}}\n",
              "\n",
              "                        })                };                            </script>        </div>\n",
              "</body>\n",
              "</html>"
            ]
          },
          "metadata": {}
        }
      ],
      "source": [
        "roc_auc_curve(y_test_pred_prob, y_test)"
      ]
    },
    {
      "cell_type": "code",
      "execution_count": 43,
      "metadata": {
        "id": "AymS4krnmhuC"
      },
      "outputs": [],
      "source": [
        "from tensorflow.keras.models import save_model\n"
      ]
    },
    {
      "cell_type": "code",
      "execution_count": 44,
      "metadata": {
        "id": "Bp4G0LZqm0Sq"
      },
      "outputs": [],
      "source": [
        "MODEL_FILENAMEs=root_path+\"model_5fold_InceptionV3_16e3_5.h5\"\n",
        "model.save(MODEL_FILENAMEs)"
      ]
    }
  ],
  "metadata": {
    "accelerator": "GPU",
    "colab": {
      "provenance": [],
      "toc_visible": true,
      "gpuType": "T4",
      "include_colab_link": true
    },
    "kernelspec": {
      "display_name": "Python 3",
      "name": "python3"
    },
    "language_info": {
      "name": "python"
    }
  },
  "nbformat": 4,
  "nbformat_minor": 0
}